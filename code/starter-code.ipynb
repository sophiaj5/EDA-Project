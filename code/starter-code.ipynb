{
 "cells": [
  {
   "cell_type": "markdown",
   "metadata": {},
   "source": [
    "<img src=\"http://imgur.com/1ZcRyrc.png\" style=\"float: left; margin: 20px; height: 55px\">\n",
    "\n",
    "# Project 1: World Development Statistics"
   ]
  },
  {
   "cell_type": "markdown",
   "metadata": {},
   "source": [
    "--- \n",
    "# Part 1\n",
    "\n",
    "Part 1 requires knowledge of basic Python.\n",
    "\n",
    "---"
   ]
  },
  {
   "cell_type": "markdown",
   "metadata": {},
   "source": [
    "## Problem Statement"
   ]
  },
  {
   "cell_type": "markdown",
   "metadata": {},
   "source": [
    "Smoking is a very prevalent problem in various countries and regions across the world. Smoking can be the source of serious health problems and can ultimately lead to death in many cases. With products such as cigarettes and e-cigarettes becoming more and more popular as time goes on, there is a high chance that there will be an increase in the amount of deaths throughout various countries. The objective of this project is to find whether countries with a low life expectancy also have a high rate of smoking in the year 2020."
   ]
  },
  {
   "cell_type": "markdown",
   "metadata": {},
   "source": [
    "### Contents:\n",
    "- [Background](#Background)\n",
    "- [Data Import & Cleaning](#Data-Import-and-Cleaning)\n",
    "- [Exploratory Data Analysis](#Exploratory-Data-Analysis)\n",
    "- [Data Visualization](#Visualize-the-Data)\n",
    "- [Conclusions and Recommendations](#Conclusions-and-Recommendations)"
   ]
  },
  {
   "cell_type": "markdown",
   "metadata": {},
   "source": [
    "## Background"
   ]
  },
  {
   "cell_type": "markdown",
   "metadata": {},
   "source": [
    "As smoking has been a prevalent problem for many years, this project aims to dive into whether the past life expectancy and tabacco usage are related."
   ]
  },
  {
   "cell_type": "markdown",
   "metadata": {},
   "source": []
  },
  {
   "cell_type": "markdown",
   "metadata": {},
   "source": [
    "### Datasets Used:\n",
    "* [`population.csv`](./data/population.csv): Population by Country\n",
    "* [`life_expectancy.csv`](./data/life_expectancy.csv): Life Expectancy by Country\n",
    "* [`share-of-adults-who-smoke.csv`](./data/share-of-adults-who-smoke.csv): Tabacco Usage by Country"
   ]
  },
  {
   "cell_type": "markdown",
   "metadata": {},
   "source": []
  },
  {
   "cell_type": "markdown",
   "metadata": {},
   "source": [
    "### Outside Research"
   ]
  },
  {
   "cell_type": "markdown",
   "metadata": {},
   "source": [
    "In order to conduct this research, data related to the tabacco use in each country was needed. The website: https://www.visualcapitalist.com/cp/visualizing-country-smoking-population/ provided a dataset which showcased the prevalence of tabacco use in various countries throughout the past few years."
   ]
  },
  {
   "cell_type": "markdown",
   "metadata": {},
   "source": []
  },
  {
   "cell_type": "markdown",
   "metadata": {},
   "source": [
    "### Coding Challenges\n",
    "\n",
    "1. Manually calculate mean:\n",
    "\n",
    "    Write a function that takes in values and returns the mean of the values. Create a list of numbers that you test on your function to check to make sure your function works!\n",
    "    \n",
    "    *Note*: Do not use any mean methods built-in to any Python libraries to do this! This should be done without importing any additional libraries."
   ]
  },
  {
   "cell_type": "code",
   "execution_count": 1,
   "metadata": {},
   "outputs": [
    {
     "data": {
      "text/plain": [
       "7.5"
      ]
     },
     "execution_count": 1,
     "metadata": {},
     "output_type": "execute_result"
    }
   ],
   "source": [
    "# Code:\n",
    "def find_mean(values):\n",
    "    average = sum(values) / len(values)\n",
    "    return average\n",
    "\n",
    "find_mean([6, 3, 7, 14])"
   ]
  },
  {
   "cell_type": "markdown",
   "metadata": {},
   "source": [
    "2. Manually calculate standard deviation:\n",
    "\n",
    "    The formula for standard deviation is below:\n",
    "\n",
    "    $$\\sigma = \\sqrt{\\frac{1}{n}\\sum_{i=1}^n(x_i - \\mu)^2}$$\n",
    "\n",
    "    Where $x_i$ represents each value in the dataset, $\\mu$ represents the mean of all values in the dataset and $n$ represents the number of values in the dataset.\n",
    "\n",
    "    Write a function that takes in values and returns the standard deviation of the values using the formula above. Hint: use the function you wrote above to calculate the mean! Use the list of numbers you created above to test on your function.\n",
    "    \n",
    "    *Note*: Do not use any standard deviation methods built-in to any Python libraries to do this! This should be done without importing any additional libraries."
   ]
  },
  {
   "cell_type": "code",
   "execution_count": 2,
   "metadata": {},
   "outputs": [
    {
     "data": {
      "text/plain": [
       "4.031128874149275"
      ]
     },
     "execution_count": 2,
     "metadata": {},
     "output_type": "execute_result"
    }
   ],
   "source": [
    "# Code:\n",
    "def standard_dev(values):\n",
    "    variance = sum((val - find_mean(values))**2 for val in values) / len(values)\n",
    "    std = variance**0.5\n",
    "    return std\n",
    "\n",
    "standard_dev([6, 3, 7, 14])"
   ]
  },
  {
   "cell_type": "code",
   "execution_count": null,
   "metadata": {},
   "outputs": [],
   "source": []
  },
  {
   "cell_type": "markdown",
   "metadata": {},
   "source": [
    "3. Data cleaning function:\n",
    "    \n",
    "    Write a function that takes in a string consisting a number and an abbreviated place value (ex. '5M', '45K'), and converts that string to an integer. For example, inputting '5M' in your function should return 5000000, '45K' should return 45000, etc. Make sure to test your function to make sure it works!\n",
    "\n",
    "You will use these functions later on in the project!"
   ]
  },
  {
   "cell_type": "code",
   "execution_count": 3,
   "metadata": {
    "scrolled": true
   },
   "outputs": [
    {
     "data": {
      "text/plain": [
       "45000"
      ]
     },
     "execution_count": 3,
     "metadata": {},
     "output_type": "execute_result"
    }
   ],
   "source": [
    "# Code:\n",
    "def convert(amount):\n",
    "    letters = {'B': 1000000000, 'K': 1000, 'M': 1000000}\n",
    "    if amount:\n",
    "        abbr = amount[-1].upper()  \n",
    "    if abbr in letters:\n",
    "        number = float(amount[0:-1])\n",
    "        return int(number * letters[abbr])\n",
    "    else:\n",
    "        return float(amount)\n",
    "    \n",
    "convert('45K')"
   ]
  },
  {
   "cell_type": "code",
   "execution_count": null,
   "metadata": {},
   "outputs": [],
   "source": []
  },
  {
   "cell_type": "markdown",
   "metadata": {},
   "source": [
    "--- \n",
    "# Part 2\n",
    "\n",
    "Part 2 requires knowledge of Pandas, EDA, data cleaning, and data visualization.\n",
    "\n",
    "---"
   ]
  },
  {
   "cell_type": "markdown",
   "metadata": {},
   "source": [
    "*All libraries used should be added here*"
   ]
  },
  {
   "cell_type": "code",
   "execution_count": 4,
   "metadata": {},
   "outputs": [],
   "source": [
    "# Imports:\n",
    "import pandas as pd\n",
    "import numpy as np\n",
    "import matplotlib.pyplot as plt\n",
    "import seaborn as sns"
   ]
  },
  {
   "cell_type": "markdown",
   "metadata": {},
   "source": [
    "## Data Import and Cleaning"
   ]
  },
  {
   "cell_type": "markdown",
   "metadata": {},
   "source": [
    "### Data Import & Cleaning\n",
    "\n",
    "Import the datasets that you selected for this project and go through the following steps at a minimum. You are welcome to do further cleaning as you feel necessary:\n",
    "1. Display the data: print the first 5 rows of each dataframe to your Jupyter notebook.\n",
    "2. Check for missing values.\n",
    "3. Check for any obvious issues with the observations (keep in mind reasonable values for each column).\n",
    "4. Fix any errors you identified in steps 2-3.\n",
    "5. Display the data types of each feature.\n",
    "6. Fix any incorrect data types found in step 5.\n",
    "    - Fix any individual values preventing other columns from being the appropriate type.\n",
    "    - If your dataset has a column of abbreviated numbers (ex. '3M', '45K', etc.), use the function you wrote in Part 1 (coding challenges, number 3) to convert this to integers! *Hint*: use `.map()` or `.apply()`.\n",
    "7. Rename Columns.\n",
    "    - Column names should be all lowercase.\n",
    "    - Column names should not contain spaces (underscores will suffice--this allows for using the `df.column_name` method to access columns in addition to `df['column_name']`).\n",
    "    - Column names should be unique and informative.\n",
    "8. Drop unnecessary rows (if needed).\n",
    "9. Merge dataframes that can be merged.\n",
    "10. Perform any additional cleaning that you feel is necessary.\n",
    "11. Save your cleaned and merged dataframes as csv files."
   ]
  },
  {
   "cell_type": "code",
   "execution_count": 5,
   "metadata": {},
   "outputs": [],
   "source": [
    "# Code: \n",
    "#importing the datasets\n",
    "population_df = pd.read_csv('../data/population.csv')\n",
    "life_expectancy_df = pd.read_csv('../data/life_expectancy.csv')\n",
    "smoking_df = pd.read_csv('../data/share-of-adults-who-smoke.csv')"
   ]
  },
  {
   "cell_type": "code",
   "execution_count": 6,
   "metadata": {},
   "outputs": [
    {
     "data": {
      "text/html": [
       "<div>\n",
       "<style scoped>\n",
       "    .dataframe tbody tr th:only-of-type {\n",
       "        vertical-align: middle;\n",
       "    }\n",
       "\n",
       "    .dataframe tbody tr th {\n",
       "        vertical-align: top;\n",
       "    }\n",
       "\n",
       "    .dataframe thead th {\n",
       "        text-align: right;\n",
       "    }\n",
       "</style>\n",
       "<table border=\"1\" class=\"dataframe\">\n",
       "  <thead>\n",
       "    <tr style=\"text-align: right;\">\n",
       "      <th></th>\n",
       "      <th>country</th>\n",
       "      <th>1800</th>\n",
       "      <th>1801</th>\n",
       "      <th>1802</th>\n",
       "      <th>1803</th>\n",
       "      <th>1804</th>\n",
       "      <th>1805</th>\n",
       "      <th>1806</th>\n",
       "      <th>1807</th>\n",
       "      <th>1808</th>\n",
       "      <th>...</th>\n",
       "      <th>2091</th>\n",
       "      <th>2092</th>\n",
       "      <th>2093</th>\n",
       "      <th>2094</th>\n",
       "      <th>2095</th>\n",
       "      <th>2096</th>\n",
       "      <th>2097</th>\n",
       "      <th>2098</th>\n",
       "      <th>2099</th>\n",
       "      <th>2100</th>\n",
       "    </tr>\n",
       "  </thead>\n",
       "  <tbody>\n",
       "    <tr>\n",
       "      <th>0</th>\n",
       "      <td>Afghanistan</td>\n",
       "      <td>3.28M</td>\n",
       "      <td>3.28M</td>\n",
       "      <td>3.28M</td>\n",
       "      <td>3.28M</td>\n",
       "      <td>3.28M</td>\n",
       "      <td>3.28M</td>\n",
       "      <td>3.28M</td>\n",
       "      <td>3.28M</td>\n",
       "      <td>3.28M</td>\n",
       "      <td>...</td>\n",
       "      <td>108M</td>\n",
       "      <td>108M</td>\n",
       "      <td>109M</td>\n",
       "      <td>109M</td>\n",
       "      <td>109M</td>\n",
       "      <td>110M</td>\n",
       "      <td>110M</td>\n",
       "      <td>110M</td>\n",
       "      <td>111M</td>\n",
       "      <td>111M</td>\n",
       "    </tr>\n",
       "    <tr>\n",
       "      <th>1</th>\n",
       "      <td>Angola</td>\n",
       "      <td>1.57M</td>\n",
       "      <td>1.57M</td>\n",
       "      <td>1.57M</td>\n",
       "      <td>1.57M</td>\n",
       "      <td>1.57M</td>\n",
       "      <td>1.57M</td>\n",
       "      <td>1.57M</td>\n",
       "      <td>1.57M</td>\n",
       "      <td>1.57M</td>\n",
       "      <td>...</td>\n",
       "      <td>125M</td>\n",
       "      <td>126M</td>\n",
       "      <td>127M</td>\n",
       "      <td>128M</td>\n",
       "      <td>129M</td>\n",
       "      <td>130M</td>\n",
       "      <td>131M</td>\n",
       "      <td>131M</td>\n",
       "      <td>132M</td>\n",
       "      <td>133M</td>\n",
       "    </tr>\n",
       "    <tr>\n",
       "      <th>2</th>\n",
       "      <td>Albania</td>\n",
       "      <td>400k</td>\n",
       "      <td>402k</td>\n",
       "      <td>404k</td>\n",
       "      <td>405k</td>\n",
       "      <td>407k</td>\n",
       "      <td>409k</td>\n",
       "      <td>411k</td>\n",
       "      <td>413k</td>\n",
       "      <td>414k</td>\n",
       "      <td>...</td>\n",
       "      <td>1.35M</td>\n",
       "      <td>1.32M</td>\n",
       "      <td>1.29M</td>\n",
       "      <td>1.26M</td>\n",
       "      <td>1.23M</td>\n",
       "      <td>1.21M</td>\n",
       "      <td>1.18M</td>\n",
       "      <td>1.15M</td>\n",
       "      <td>1.12M</td>\n",
       "      <td>1.1M</td>\n",
       "    </tr>\n",
       "    <tr>\n",
       "      <th>3</th>\n",
       "      <td>Andorra</td>\n",
       "      <td>2650</td>\n",
       "      <td>2650</td>\n",
       "      <td>2650</td>\n",
       "      <td>2650</td>\n",
       "      <td>2650</td>\n",
       "      <td>2650</td>\n",
       "      <td>2650</td>\n",
       "      <td>2650</td>\n",
       "      <td>2650</td>\n",
       "      <td>...</td>\n",
       "      <td>62.5k</td>\n",
       "      <td>62.2k</td>\n",
       "      <td>61.9k</td>\n",
       "      <td>61.7k</td>\n",
       "      <td>61.4k</td>\n",
       "      <td>61.2k</td>\n",
       "      <td>60.9k</td>\n",
       "      <td>60.7k</td>\n",
       "      <td>60.5k</td>\n",
       "      <td>60.2k</td>\n",
       "    </tr>\n",
       "    <tr>\n",
       "      <th>4</th>\n",
       "      <td>United Arab Emirates</td>\n",
       "      <td>40.2k</td>\n",
       "      <td>40.2k</td>\n",
       "      <td>40.2k</td>\n",
       "      <td>40.2k</td>\n",
       "      <td>40.2k</td>\n",
       "      <td>40.2k</td>\n",
       "      <td>40.2k</td>\n",
       "      <td>40.2k</td>\n",
       "      <td>40.2k</td>\n",
       "      <td>...</td>\n",
       "      <td>13.5M</td>\n",
       "      <td>13.5M</td>\n",
       "      <td>13.6M</td>\n",
       "      <td>13.7M</td>\n",
       "      <td>13.8M</td>\n",
       "      <td>13.8M</td>\n",
       "      <td>13.9M</td>\n",
       "      <td>14M</td>\n",
       "      <td>14M</td>\n",
       "      <td>14.1M</td>\n",
       "    </tr>\n",
       "  </tbody>\n",
       "</table>\n",
       "<p>5 rows × 302 columns</p>\n",
       "</div>"
      ],
      "text/plain": [
       "                country   1800   1801   1802   1803   1804   1805   1806  \\\n",
       "0           Afghanistan  3.28M  3.28M  3.28M  3.28M  3.28M  3.28M  3.28M   \n",
       "1                Angola  1.57M  1.57M  1.57M  1.57M  1.57M  1.57M  1.57M   \n",
       "2               Albania   400k   402k   404k   405k   407k   409k   411k   \n",
       "3               Andorra   2650   2650   2650   2650   2650   2650   2650   \n",
       "4  United Arab Emirates  40.2k  40.2k  40.2k  40.2k  40.2k  40.2k  40.2k   \n",
       "\n",
       "    1807   1808  ...   2091   2092   2093   2094   2095   2096   2097   2098  \\\n",
       "0  3.28M  3.28M  ...   108M   108M   109M   109M   109M   110M   110M   110M   \n",
       "1  1.57M  1.57M  ...   125M   126M   127M   128M   129M   130M   131M   131M   \n",
       "2   413k   414k  ...  1.35M  1.32M  1.29M  1.26M  1.23M  1.21M  1.18M  1.15M   \n",
       "3   2650   2650  ...  62.5k  62.2k  61.9k  61.7k  61.4k  61.2k  60.9k  60.7k   \n",
       "4  40.2k  40.2k  ...  13.5M  13.5M  13.6M  13.7M  13.8M  13.8M  13.9M    14M   \n",
       "\n",
       "    2099   2100  \n",
       "0   111M   111M  \n",
       "1   132M   133M  \n",
       "2  1.12M   1.1M  \n",
       "3  60.5k  60.2k  \n",
       "4    14M  14.1M  \n",
       "\n",
       "[5 rows x 302 columns]"
      ]
     },
     "execution_count": 6,
     "metadata": {},
     "output_type": "execute_result"
    }
   ],
   "source": [
    "#population dataframe with lowercase column names\n",
    "population_df.columns = population_df.columns.str.lower()\n",
    "population_df.dropna(inplace=True)\n",
    "population_df.head(5)"
   ]
  },
  {
   "cell_type": "code",
   "execution_count": 7,
   "metadata": {},
   "outputs": [
    {
     "data": {
      "text/plain": [
       "country    0\n",
       "1800       0\n",
       "1801       0\n",
       "1802       0\n",
       "1803       0\n",
       "          ..\n",
       "2096       0\n",
       "2097       0\n",
       "2098       0\n",
       "2099       0\n",
       "2100       0\n",
       "Length: 302, dtype: int64"
      ]
     },
     "execution_count": 7,
     "metadata": {},
     "output_type": "execute_result"
    }
   ],
   "source": [
    "#checking for missing values\n",
    "population_df.isna().sum()"
   ]
  },
  {
   "cell_type": "code",
   "execution_count": 8,
   "metadata": {
    "scrolled": true
   },
   "outputs": [
    {
     "data": {
      "text/plain": [
       "country    object\n",
       "1800       object\n",
       "1801       object\n",
       "1802       object\n",
       "1803       object\n",
       "            ...  \n",
       "2096       object\n",
       "2097       object\n",
       "2098       object\n",
       "2099       object\n",
       "2100       object\n",
       "Length: 302, dtype: object"
      ]
     },
     "execution_count": 8,
     "metadata": {},
     "output_type": "execute_result"
    }
   ],
   "source": [
    "#display the datatypes for the population dataframe\n",
    "population_df.dtypes"
   ]
  },
  {
   "cell_type": "code",
   "execution_count": 9,
   "metadata": {
    "scrolled": false
   },
   "outputs": [
    {
     "data": {
      "text/html": [
       "<div>\n",
       "<style scoped>\n",
       "    .dataframe tbody tr th:only-of-type {\n",
       "        vertical-align: middle;\n",
       "    }\n",
       "\n",
       "    .dataframe tbody tr th {\n",
       "        vertical-align: top;\n",
       "    }\n",
       "\n",
       "    .dataframe thead th {\n",
       "        text-align: right;\n",
       "    }\n",
       "</style>\n",
       "<table border=\"1\" class=\"dataframe\">\n",
       "  <thead>\n",
       "    <tr style=\"text-align: right;\">\n",
       "      <th></th>\n",
       "      <th>country</th>\n",
       "      <th>1800</th>\n",
       "      <th>1801</th>\n",
       "      <th>1802</th>\n",
       "      <th>1803</th>\n",
       "      <th>1804</th>\n",
       "      <th>1805</th>\n",
       "      <th>1806</th>\n",
       "      <th>1807</th>\n",
       "      <th>1808</th>\n",
       "      <th>...</th>\n",
       "      <th>2091</th>\n",
       "      <th>2092</th>\n",
       "      <th>2093</th>\n",
       "      <th>2094</th>\n",
       "      <th>2095</th>\n",
       "      <th>2096</th>\n",
       "      <th>2097</th>\n",
       "      <th>2098</th>\n",
       "      <th>2099</th>\n",
       "      <th>2100</th>\n",
       "    </tr>\n",
       "  </thead>\n",
       "  <tbody>\n",
       "    <tr>\n",
       "      <th>0</th>\n",
       "      <td>Afghanistan</td>\n",
       "      <td>3280000.0</td>\n",
       "      <td>3280000.0</td>\n",
       "      <td>3280000.0</td>\n",
       "      <td>3280000.0</td>\n",
       "      <td>3280000.0</td>\n",
       "      <td>3280000.0</td>\n",
       "      <td>3280000.0</td>\n",
       "      <td>3280000.0</td>\n",
       "      <td>3280000.0</td>\n",
       "      <td>...</td>\n",
       "      <td>108000000.0</td>\n",
       "      <td>108000000.0</td>\n",
       "      <td>109000000.0</td>\n",
       "      <td>109000000.0</td>\n",
       "      <td>109000000.0</td>\n",
       "      <td>110000000.0</td>\n",
       "      <td>110000000.0</td>\n",
       "      <td>110000000.0</td>\n",
       "      <td>111000000.0</td>\n",
       "      <td>111000000.0</td>\n",
       "    </tr>\n",
       "    <tr>\n",
       "      <th>1</th>\n",
       "      <td>Angola</td>\n",
       "      <td>1570000.0</td>\n",
       "      <td>1570000.0</td>\n",
       "      <td>1570000.0</td>\n",
       "      <td>1570000.0</td>\n",
       "      <td>1570000.0</td>\n",
       "      <td>1570000.0</td>\n",
       "      <td>1570000.0</td>\n",
       "      <td>1570000.0</td>\n",
       "      <td>1570000.0</td>\n",
       "      <td>...</td>\n",
       "      <td>125000000.0</td>\n",
       "      <td>126000000.0</td>\n",
       "      <td>127000000.0</td>\n",
       "      <td>128000000.0</td>\n",
       "      <td>129000000.0</td>\n",
       "      <td>130000000.0</td>\n",
       "      <td>131000000.0</td>\n",
       "      <td>131000000.0</td>\n",
       "      <td>132000000.0</td>\n",
       "      <td>133000000.0</td>\n",
       "    </tr>\n",
       "    <tr>\n",
       "      <th>2</th>\n",
       "      <td>Albania</td>\n",
       "      <td>400000.0</td>\n",
       "      <td>402000.0</td>\n",
       "      <td>404000.0</td>\n",
       "      <td>405000.0</td>\n",
       "      <td>407000.0</td>\n",
       "      <td>409000.0</td>\n",
       "      <td>411000.0</td>\n",
       "      <td>413000.0</td>\n",
       "      <td>414000.0</td>\n",
       "      <td>...</td>\n",
       "      <td>1350000.0</td>\n",
       "      <td>1320000.0</td>\n",
       "      <td>1290000.0</td>\n",
       "      <td>1260000.0</td>\n",
       "      <td>1230000.0</td>\n",
       "      <td>1210000.0</td>\n",
       "      <td>1180000.0</td>\n",
       "      <td>1150000.0</td>\n",
       "      <td>1120000.0</td>\n",
       "      <td>1100000.0</td>\n",
       "    </tr>\n",
       "    <tr>\n",
       "      <th>3</th>\n",
       "      <td>Andorra</td>\n",
       "      <td>2650.0</td>\n",
       "      <td>2650.0</td>\n",
       "      <td>2650.0</td>\n",
       "      <td>2650.0</td>\n",
       "      <td>2650.0</td>\n",
       "      <td>2650.0</td>\n",
       "      <td>2650.0</td>\n",
       "      <td>2650.0</td>\n",
       "      <td>2650.0</td>\n",
       "      <td>...</td>\n",
       "      <td>62500.0</td>\n",
       "      <td>62200.0</td>\n",
       "      <td>61900.0</td>\n",
       "      <td>61700.0</td>\n",
       "      <td>61400.0</td>\n",
       "      <td>61200.0</td>\n",
       "      <td>60900.0</td>\n",
       "      <td>60700.0</td>\n",
       "      <td>60500.0</td>\n",
       "      <td>60200.0</td>\n",
       "    </tr>\n",
       "    <tr>\n",
       "      <th>4</th>\n",
       "      <td>United Arab Emirates</td>\n",
       "      <td>40200.0</td>\n",
       "      <td>40200.0</td>\n",
       "      <td>40200.0</td>\n",
       "      <td>40200.0</td>\n",
       "      <td>40200.0</td>\n",
       "      <td>40200.0</td>\n",
       "      <td>40200.0</td>\n",
       "      <td>40200.0</td>\n",
       "      <td>40200.0</td>\n",
       "      <td>...</td>\n",
       "      <td>13500000.0</td>\n",
       "      <td>13500000.0</td>\n",
       "      <td>13600000.0</td>\n",
       "      <td>13700000.0</td>\n",
       "      <td>13800000.0</td>\n",
       "      <td>13800000.0</td>\n",
       "      <td>13900000.0</td>\n",
       "      <td>14000000.0</td>\n",
       "      <td>14000000.0</td>\n",
       "      <td>14100000.0</td>\n",
       "    </tr>\n",
       "  </tbody>\n",
       "</table>\n",
       "<p>5 rows × 302 columns</p>\n",
       "</div>"
      ],
      "text/plain": [
       "                country       1800       1801       1802       1803  \\\n",
       "0           Afghanistan  3280000.0  3280000.0  3280000.0  3280000.0   \n",
       "1                Angola  1570000.0  1570000.0  1570000.0  1570000.0   \n",
       "2               Albania   400000.0   402000.0   404000.0   405000.0   \n",
       "3               Andorra     2650.0     2650.0     2650.0     2650.0   \n",
       "4  United Arab Emirates    40200.0    40200.0    40200.0    40200.0   \n",
       "\n",
       "        1804       1805       1806       1807       1808  ...         2091  \\\n",
       "0  3280000.0  3280000.0  3280000.0  3280000.0  3280000.0  ...  108000000.0   \n",
       "1  1570000.0  1570000.0  1570000.0  1570000.0  1570000.0  ...  125000000.0   \n",
       "2   407000.0   409000.0   411000.0   413000.0   414000.0  ...    1350000.0   \n",
       "3     2650.0     2650.0     2650.0     2650.0     2650.0  ...      62500.0   \n",
       "4    40200.0    40200.0    40200.0    40200.0    40200.0  ...   13500000.0   \n",
       "\n",
       "          2092         2093         2094         2095         2096  \\\n",
       "0  108000000.0  109000000.0  109000000.0  109000000.0  110000000.0   \n",
       "1  126000000.0  127000000.0  128000000.0  129000000.0  130000000.0   \n",
       "2    1320000.0    1290000.0    1260000.0    1230000.0    1210000.0   \n",
       "3      62200.0      61900.0      61700.0      61400.0      61200.0   \n",
       "4   13500000.0   13600000.0   13700000.0   13800000.0   13800000.0   \n",
       "\n",
       "          2097         2098         2099         2100  \n",
       "0  110000000.0  110000000.0  111000000.0  111000000.0  \n",
       "1  131000000.0  131000000.0  132000000.0  133000000.0  \n",
       "2    1180000.0    1150000.0    1120000.0    1100000.0  \n",
       "3      60900.0      60700.0      60500.0      60200.0  \n",
       "4   13900000.0   14000000.0   14000000.0   14100000.0  \n",
       "\n",
       "[5 rows x 302 columns]"
      ]
     },
     "execution_count": 9,
     "metadata": {},
     "output_type": "execute_result"
    }
   ],
   "source": [
    "#using the convert method to fix abbreviated numbers\n",
    "#inspiration for this line was used from https://www.tutorialspoint.com/how-to-select-all-columns-except-one-in-a-pandas-dataframe#:~:text=To%20select%20all%20columns%20except%20one%20column%20in%20Pandas%20DataFrame,%5D.\n",
    "population_df.loc[:, population_df.columns != 'country'] = population_df.loc[:, population_df.columns != 'country'].applymap(convert)\n",
    "population_df.head(5)"
   ]
  },
  {
   "cell_type": "code",
   "execution_count": 10,
   "metadata": {},
   "outputs": [
    {
     "data": {
      "text/html": [
       "<div>\n",
       "<style scoped>\n",
       "    .dataframe tbody tr th:only-of-type {\n",
       "        vertical-align: middle;\n",
       "    }\n",
       "\n",
       "    .dataframe tbody tr th {\n",
       "        vertical-align: top;\n",
       "    }\n",
       "\n",
       "    .dataframe thead th {\n",
       "        text-align: right;\n",
       "    }\n",
       "</style>\n",
       "<table border=\"1\" class=\"dataframe\">\n",
       "  <thead>\n",
       "    <tr style=\"text-align: right;\">\n",
       "      <th></th>\n",
       "      <th>country</th>\n",
       "      <th>1800</th>\n",
       "      <th>1801</th>\n",
       "      <th>1802</th>\n",
       "      <th>1803</th>\n",
       "      <th>1804</th>\n",
       "      <th>1805</th>\n",
       "      <th>1806</th>\n",
       "      <th>1807</th>\n",
       "      <th>1808</th>\n",
       "      <th>...</th>\n",
       "      <th>2091</th>\n",
       "      <th>2092</th>\n",
       "      <th>2093</th>\n",
       "      <th>2094</th>\n",
       "      <th>2095</th>\n",
       "      <th>2096</th>\n",
       "      <th>2097</th>\n",
       "      <th>2098</th>\n",
       "      <th>2099</th>\n",
       "      <th>2100</th>\n",
       "    </tr>\n",
       "  </thead>\n",
       "  <tbody>\n",
       "    <tr>\n",
       "      <th>0</th>\n",
       "      <td>Afghanistan</td>\n",
       "      <td>28.2</td>\n",
       "      <td>28.2</td>\n",
       "      <td>28.2</td>\n",
       "      <td>28.2</td>\n",
       "      <td>28.2</td>\n",
       "      <td>28.2</td>\n",
       "      <td>28.1</td>\n",
       "      <td>28.1</td>\n",
       "      <td>28.1</td>\n",
       "      <td>...</td>\n",
       "      <td>75.5</td>\n",
       "      <td>75.7</td>\n",
       "      <td>75.8</td>\n",
       "      <td>76.0</td>\n",
       "      <td>76.1</td>\n",
       "      <td>76.2</td>\n",
       "      <td>76.4</td>\n",
       "      <td>76.5</td>\n",
       "      <td>76.6</td>\n",
       "      <td>76.8</td>\n",
       "    </tr>\n",
       "    <tr>\n",
       "      <th>1</th>\n",
       "      <td>Angola</td>\n",
       "      <td>27.0</td>\n",
       "      <td>27.0</td>\n",
       "      <td>27.0</td>\n",
       "      <td>27.0</td>\n",
       "      <td>27.0</td>\n",
       "      <td>27.0</td>\n",
       "      <td>27.0</td>\n",
       "      <td>27.0</td>\n",
       "      <td>27.0</td>\n",
       "      <td>...</td>\n",
       "      <td>78.8</td>\n",
       "      <td>79.0</td>\n",
       "      <td>79.1</td>\n",
       "      <td>79.2</td>\n",
       "      <td>79.3</td>\n",
       "      <td>79.5</td>\n",
       "      <td>79.6</td>\n",
       "      <td>79.7</td>\n",
       "      <td>79.9</td>\n",
       "      <td>80.0</td>\n",
       "    </tr>\n",
       "    <tr>\n",
       "      <th>2</th>\n",
       "      <td>Albania</td>\n",
       "      <td>35.4</td>\n",
       "      <td>35.4</td>\n",
       "      <td>35.4</td>\n",
       "      <td>35.4</td>\n",
       "      <td>35.4</td>\n",
       "      <td>35.4</td>\n",
       "      <td>35.4</td>\n",
       "      <td>35.4</td>\n",
       "      <td>35.4</td>\n",
       "      <td>...</td>\n",
       "      <td>87.4</td>\n",
       "      <td>87.5</td>\n",
       "      <td>87.6</td>\n",
       "      <td>87.7</td>\n",
       "      <td>87.8</td>\n",
       "      <td>87.9</td>\n",
       "      <td>88.0</td>\n",
       "      <td>88.2</td>\n",
       "      <td>88.3</td>\n",
       "      <td>88.4</td>\n",
       "    </tr>\n",
       "    <tr>\n",
       "      <th>4</th>\n",
       "      <td>United Arab Emirates</td>\n",
       "      <td>30.7</td>\n",
       "      <td>30.7</td>\n",
       "      <td>30.7</td>\n",
       "      <td>30.7</td>\n",
       "      <td>30.7</td>\n",
       "      <td>30.7</td>\n",
       "      <td>30.7</td>\n",
       "      <td>30.7</td>\n",
       "      <td>30.7</td>\n",
       "      <td>...</td>\n",
       "      <td>82.4</td>\n",
       "      <td>82.5</td>\n",
       "      <td>82.6</td>\n",
       "      <td>82.7</td>\n",
       "      <td>82.8</td>\n",
       "      <td>82.9</td>\n",
       "      <td>83.0</td>\n",
       "      <td>83.1</td>\n",
       "      <td>83.2</td>\n",
       "      <td>83.3</td>\n",
       "    </tr>\n",
       "    <tr>\n",
       "      <th>5</th>\n",
       "      <td>Argentina</td>\n",
       "      <td>33.2</td>\n",
       "      <td>33.2</td>\n",
       "      <td>33.2</td>\n",
       "      <td>33.2</td>\n",
       "      <td>33.2</td>\n",
       "      <td>33.2</td>\n",
       "      <td>33.2</td>\n",
       "      <td>33.2</td>\n",
       "      <td>33.2</td>\n",
       "      <td>...</td>\n",
       "      <td>86.2</td>\n",
       "      <td>86.3</td>\n",
       "      <td>86.5</td>\n",
       "      <td>86.5</td>\n",
       "      <td>86.7</td>\n",
       "      <td>86.8</td>\n",
       "      <td>86.9</td>\n",
       "      <td>87.0</td>\n",
       "      <td>87.1</td>\n",
       "      <td>87.2</td>\n",
       "    </tr>\n",
       "  </tbody>\n",
       "</table>\n",
       "<p>5 rows × 302 columns</p>\n",
       "</div>"
      ],
      "text/plain": [
       "                country  1800  1801  1802  1803  1804  1805  1806  1807  1808  \\\n",
       "0           Afghanistan  28.2  28.2  28.2  28.2  28.2  28.2  28.1  28.1  28.1   \n",
       "1                Angola  27.0  27.0  27.0  27.0  27.0  27.0  27.0  27.0  27.0   \n",
       "2               Albania  35.4  35.4  35.4  35.4  35.4  35.4  35.4  35.4  35.4   \n",
       "4  United Arab Emirates  30.7  30.7  30.7  30.7  30.7  30.7  30.7  30.7  30.7   \n",
       "5             Argentina  33.2  33.2  33.2  33.2  33.2  33.2  33.2  33.2  33.2   \n",
       "\n",
       "   ...  2091  2092  2093  2094  2095  2096  2097  2098  2099  2100  \n",
       "0  ...  75.5  75.7  75.8  76.0  76.1  76.2  76.4  76.5  76.6  76.8  \n",
       "1  ...  78.8  79.0  79.1  79.2  79.3  79.5  79.6  79.7  79.9  80.0  \n",
       "2  ...  87.4  87.5  87.6  87.7  87.8  87.9  88.0  88.2  88.3  88.4  \n",
       "4  ...  82.4  82.5  82.6  82.7  82.8  82.9  83.0  83.1  83.2  83.3  \n",
       "5  ...  86.2  86.3  86.5  86.5  86.7  86.8  86.9  87.0  87.1  87.2  \n",
       "\n",
       "[5 rows x 302 columns]"
      ]
     },
     "execution_count": 10,
     "metadata": {},
     "output_type": "execute_result"
    }
   ],
   "source": [
    "#life expectancy dataframe without missing values and lowercase column names\n",
    "life_expectancy_df.columns = life_expectancy_df.columns.str.lower()\n",
    "life_expectancy_df.dropna(inplace=True)\n",
    "life_expectancy_df.head(5)"
   ]
  },
  {
   "cell_type": "code",
   "execution_count": 11,
   "metadata": {},
   "outputs": [
    {
     "data": {
      "text/plain": [
       "country    0\n",
       "1800       0\n",
       "1801       0\n",
       "1802       0\n",
       "1803       0\n",
       "          ..\n",
       "2096       0\n",
       "2097       0\n",
       "2098       0\n",
       "2099       0\n",
       "2100       0\n",
       "Length: 302, dtype: int64"
      ]
     },
     "execution_count": 11,
     "metadata": {},
     "output_type": "execute_result"
    }
   ],
   "source": [
    "life_expectancy_df.isna().sum()"
   ]
  },
  {
   "cell_type": "code",
   "execution_count": 12,
   "metadata": {},
   "outputs": [
    {
     "data": {
      "text/plain": [
       "country     object\n",
       "1800       float64\n",
       "1801       float64\n",
       "1802       float64\n",
       "1803       float64\n",
       "            ...   \n",
       "2096       float64\n",
       "2097       float64\n",
       "2098       float64\n",
       "2099       float64\n",
       "2100       float64\n",
       "Length: 302, dtype: object"
      ]
     },
     "execution_count": 12,
     "metadata": {},
     "output_type": "execute_result"
    }
   ],
   "source": [
    "#displaying the datatypes of life expectancy dataframe\n",
    "life_expectancy_df.dtypes"
   ]
  },
  {
   "cell_type": "code",
   "execution_count": null,
   "metadata": {},
   "outputs": [],
   "source": []
  },
  {
   "cell_type": "code",
   "execution_count": 13,
   "metadata": {},
   "outputs": [
    {
     "data": {
      "text/html": [
       "<div>\n",
       "<style scoped>\n",
       "    .dataframe tbody tr th:only-of-type {\n",
       "        vertical-align: middle;\n",
       "    }\n",
       "\n",
       "    .dataframe tbody tr th {\n",
       "        vertical-align: top;\n",
       "    }\n",
       "\n",
       "    .dataframe thead th {\n",
       "        text-align: right;\n",
       "    }\n",
       "</style>\n",
       "<table border=\"1\" class=\"dataframe\">\n",
       "  <thead>\n",
       "    <tr style=\"text-align: right;\">\n",
       "      <th></th>\n",
       "      <th>country</th>\n",
       "      <th>code</th>\n",
       "      <th>year</th>\n",
       "      <th>tabacco_use</th>\n",
       "    </tr>\n",
       "  </thead>\n",
       "  <tbody>\n",
       "    <tr>\n",
       "      <th>6</th>\n",
       "      <td>Afghanistan</td>\n",
       "      <td>AFG</td>\n",
       "      <td>2020</td>\n",
       "      <td>23.3</td>\n",
       "    </tr>\n",
       "    <tr>\n",
       "      <th>13</th>\n",
       "      <td>Albania</td>\n",
       "      <td>ALB</td>\n",
       "      <td>2020</td>\n",
       "      <td>22.4</td>\n",
       "    </tr>\n",
       "    <tr>\n",
       "      <th>20</th>\n",
       "      <td>Algeria</td>\n",
       "      <td>DZA</td>\n",
       "      <td>2020</td>\n",
       "      <td>21.0</td>\n",
       "    </tr>\n",
       "    <tr>\n",
       "      <th>27</th>\n",
       "      <td>Andorra</td>\n",
       "      <td>AND</td>\n",
       "      <td>2020</td>\n",
       "      <td>31.8</td>\n",
       "    </tr>\n",
       "    <tr>\n",
       "      <th>34</th>\n",
       "      <td>Argentina</td>\n",
       "      <td>ARG</td>\n",
       "      <td>2020</td>\n",
       "      <td>24.5</td>\n",
       "    </tr>\n",
       "  </tbody>\n",
       "</table>\n",
       "</div>"
      ],
      "text/plain": [
       "        country code  year  tabacco_use\n",
       "6   Afghanistan  AFG  2020         23.3\n",
       "13      Albania  ALB  2020         22.4\n",
       "20      Algeria  DZA  2020         21.0\n",
       "27      Andorra  AND  2020         31.8\n",
       "34    Argentina  ARG  2020         24.5"
      ]
     },
     "execution_count": 13,
     "metadata": {},
     "output_type": "execute_result"
    }
   ],
   "source": [
    "#smoking dataframe without missing smoking % values - even though missing values are in Code column, that has nothing to do with the data required\n",
    "#changing column names to lowercase and fixing column names\n",
    "smoking_df.columns = smoking_df.columns.str.lower()\n",
    "smoking_df.rename(columns={'prevalence of current tobacco use (% of adults)': 'tabacco_use', 'entity': 'country'}, inplace=True)\n",
    "smoking_df = smoking_df[smoking_df['year'] == 2020]\n",
    "smoking_df.head(5)"
   ]
  },
  {
   "cell_type": "code",
   "execution_count": 14,
   "metadata": {},
   "outputs": [
    {
     "data": {
      "text/plain": [
       "country         0\n",
       "code           13\n",
       "year            0\n",
       "tabacco_use     0\n",
       "dtype: int64"
      ]
     },
     "execution_count": 14,
     "metadata": {},
     "output_type": "execute_result"
    }
   ],
   "source": [
    "smoking_df.isna().sum()"
   ]
  },
  {
   "cell_type": "code",
   "execution_count": 15,
   "metadata": {},
   "outputs": [
    {
     "data": {
      "text/plain": [
       "country         object\n",
       "code            object\n",
       "year             int64\n",
       "tabacco_use    float64\n",
       "dtype: object"
      ]
     },
     "execution_count": 15,
     "metadata": {},
     "output_type": "execute_result"
    }
   ],
   "source": [
    "#datatypes for smoking dataframe\n",
    "smoking_df.dtypes"
   ]
  },
  {
   "cell_type": "code",
   "execution_count": 16,
   "metadata": {},
   "outputs": [
    {
     "data": {
      "text/html": [
       "<div>\n",
       "<style scoped>\n",
       "    .dataframe tbody tr th:only-of-type {\n",
       "        vertical-align: middle;\n",
       "    }\n",
       "\n",
       "    .dataframe tbody tr th {\n",
       "        vertical-align: top;\n",
       "    }\n",
       "\n",
       "    .dataframe thead th {\n",
       "        text-align: right;\n",
       "    }\n",
       "</style>\n",
       "<table border=\"1\" class=\"dataframe\">\n",
       "  <thead>\n",
       "    <tr style=\"text-align: right;\">\n",
       "      <th></th>\n",
       "      <th>country</th>\n",
       "      <th>1800_pop</th>\n",
       "      <th>1801_pop</th>\n",
       "      <th>1802_pop</th>\n",
       "      <th>1803_pop</th>\n",
       "      <th>1804_pop</th>\n",
       "      <th>1805_pop</th>\n",
       "      <th>1806_pop</th>\n",
       "      <th>1807_pop</th>\n",
       "      <th>1808_pop</th>\n",
       "      <th>...</th>\n",
       "      <th>2094_life</th>\n",
       "      <th>2095_life</th>\n",
       "      <th>2096_life</th>\n",
       "      <th>2097_life</th>\n",
       "      <th>2098_life</th>\n",
       "      <th>2099_life</th>\n",
       "      <th>2100_life</th>\n",
       "      <th>code</th>\n",
       "      <th>year</th>\n",
       "      <th>tabacco_use</th>\n",
       "    </tr>\n",
       "  </thead>\n",
       "  <tbody>\n",
       "    <tr>\n",
       "      <th>0</th>\n",
       "      <td>Afghanistan</td>\n",
       "      <td>3280000.0</td>\n",
       "      <td>3280000.0</td>\n",
       "      <td>3280000.0</td>\n",
       "      <td>3280000.0</td>\n",
       "      <td>3280000.0</td>\n",
       "      <td>3280000.0</td>\n",
       "      <td>3280000.0</td>\n",
       "      <td>3280000.0</td>\n",
       "      <td>3280000.0</td>\n",
       "      <td>...</td>\n",
       "      <td>76.0</td>\n",
       "      <td>76.1</td>\n",
       "      <td>76.2</td>\n",
       "      <td>76.4</td>\n",
       "      <td>76.5</td>\n",
       "      <td>76.6</td>\n",
       "      <td>76.8</td>\n",
       "      <td>AFG</td>\n",
       "      <td>2020</td>\n",
       "      <td>23.3</td>\n",
       "    </tr>\n",
       "    <tr>\n",
       "      <th>1</th>\n",
       "      <td>Albania</td>\n",
       "      <td>400000.0</td>\n",
       "      <td>402000.0</td>\n",
       "      <td>404000.0</td>\n",
       "      <td>405000.0</td>\n",
       "      <td>407000.0</td>\n",
       "      <td>409000.0</td>\n",
       "      <td>411000.0</td>\n",
       "      <td>413000.0</td>\n",
       "      <td>414000.0</td>\n",
       "      <td>...</td>\n",
       "      <td>87.7</td>\n",
       "      <td>87.8</td>\n",
       "      <td>87.9</td>\n",
       "      <td>88.0</td>\n",
       "      <td>88.2</td>\n",
       "      <td>88.3</td>\n",
       "      <td>88.4</td>\n",
       "      <td>ALB</td>\n",
       "      <td>2020</td>\n",
       "      <td>22.4</td>\n",
       "    </tr>\n",
       "    <tr>\n",
       "      <th>2</th>\n",
       "      <td>Argentina</td>\n",
       "      <td>534000.0</td>\n",
       "      <td>520000.0</td>\n",
       "      <td>506000.0</td>\n",
       "      <td>492000.0</td>\n",
       "      <td>479000.0</td>\n",
       "      <td>466000.0</td>\n",
       "      <td>453000.0</td>\n",
       "      <td>441000.0</td>\n",
       "      <td>429000.0</td>\n",
       "      <td>...</td>\n",
       "      <td>86.5</td>\n",
       "      <td>86.7</td>\n",
       "      <td>86.8</td>\n",
       "      <td>86.9</td>\n",
       "      <td>87.0</td>\n",
       "      <td>87.1</td>\n",
       "      <td>87.2</td>\n",
       "      <td>ARG</td>\n",
       "      <td>2020</td>\n",
       "      <td>24.5</td>\n",
       "    </tr>\n",
       "    <tr>\n",
       "      <th>3</th>\n",
       "      <td>Armenia</td>\n",
       "      <td>413000.0</td>\n",
       "      <td>413000.0</td>\n",
       "      <td>413000.0</td>\n",
       "      <td>413000.0</td>\n",
       "      <td>413000.0</td>\n",
       "      <td>413000.0</td>\n",
       "      <td>413000.0</td>\n",
       "      <td>413000.0</td>\n",
       "      <td>413000.0</td>\n",
       "      <td>...</td>\n",
       "      <td>85.5</td>\n",
       "      <td>85.6</td>\n",
       "      <td>85.7</td>\n",
       "      <td>85.8</td>\n",
       "      <td>86.0</td>\n",
       "      <td>86.1</td>\n",
       "      <td>86.2</td>\n",
       "      <td>ARM</td>\n",
       "      <td>2020</td>\n",
       "      <td>25.5</td>\n",
       "    </tr>\n",
       "    <tr>\n",
       "      <th>4</th>\n",
       "      <td>Australia</td>\n",
       "      <td>200000.0</td>\n",
       "      <td>205000.0</td>\n",
       "      <td>211000.0</td>\n",
       "      <td>216000.0</td>\n",
       "      <td>222000.0</td>\n",
       "      <td>227000.0</td>\n",
       "      <td>233000.0</td>\n",
       "      <td>239000.0</td>\n",
       "      <td>246000.0</td>\n",
       "      <td>...</td>\n",
       "      <td>91.6</td>\n",
       "      <td>91.7</td>\n",
       "      <td>91.8</td>\n",
       "      <td>91.9</td>\n",
       "      <td>92.0</td>\n",
       "      <td>92.1</td>\n",
       "      <td>92.3</td>\n",
       "      <td>AUS</td>\n",
       "      <td>2020</td>\n",
       "      <td>13.6</td>\n",
       "    </tr>\n",
       "  </tbody>\n",
       "</table>\n",
       "<p>5 rows × 606 columns</p>\n",
       "</div>"
      ],
      "text/plain": [
       "       country   1800_pop   1801_pop   1802_pop   1803_pop   1804_pop  \\\n",
       "0  Afghanistan  3280000.0  3280000.0  3280000.0  3280000.0  3280000.0   \n",
       "1      Albania   400000.0   402000.0   404000.0   405000.0   407000.0   \n",
       "2    Argentina   534000.0   520000.0   506000.0   492000.0   479000.0   \n",
       "3      Armenia   413000.0   413000.0   413000.0   413000.0   413000.0   \n",
       "4    Australia   200000.0   205000.0   211000.0   216000.0   222000.0   \n",
       "\n",
       "    1805_pop   1806_pop   1807_pop   1808_pop  ... 2094_life 2095_life  \\\n",
       "0  3280000.0  3280000.0  3280000.0  3280000.0  ...      76.0      76.1   \n",
       "1   409000.0   411000.0   413000.0   414000.0  ...      87.7      87.8   \n",
       "2   466000.0   453000.0   441000.0   429000.0  ...      86.5      86.7   \n",
       "3   413000.0   413000.0   413000.0   413000.0  ...      85.5      85.6   \n",
       "4   227000.0   233000.0   239000.0   246000.0  ...      91.6      91.7   \n",
       "\n",
       "  2096_life 2097_life 2098_life 2099_life 2100_life code  year tabacco_use  \n",
       "0      76.2      76.4      76.5      76.6      76.8  AFG  2020        23.3  \n",
       "1      87.9      88.0      88.2      88.3      88.4  ALB  2020        22.4  \n",
       "2      86.8      86.9      87.0      87.1      87.2  ARG  2020        24.5  \n",
       "3      85.7      85.8      86.0      86.1      86.2  ARM  2020        25.5  \n",
       "4      91.8      91.9      92.0      92.1      92.3  AUS  2020        13.6  \n",
       "\n",
       "[5 rows x 606 columns]"
      ]
     },
     "execution_count": 16,
     "metadata": {},
     "output_type": "execute_result"
    }
   ],
   "source": [
    "#inspiration on how to merge was used from https://pandas.pydata.org/docs/user_guide/merging.html\n",
    "population_dataframe = pd.DataFrame(population_df)\n",
    "life_expectancy_dataframe = pd.DataFrame(life_expectancy_df)\n",
    "smoking_dataframe = pd.DataFrame(smoking_df)\n",
    "\n",
    "merged_df = pd.merge(population_dataframe, life_expectancy_df, on='country', how='inner', suffixes=('_pop', '_life'))\n",
    "merged_df = pd.merge(merged_df, smoking_dataframe, on='country', how='inner')\n",
    "merged_df.head(5)"
   ]
  },
  {
   "cell_type": "code",
   "execution_count": 17,
   "metadata": {},
   "outputs": [],
   "source": [
    "#Save your cleaned and merged dataframes as csv files\n",
    "output_csv_file = 'merged_data.csv'\n",
    "merged_df.to_csv(output_csv_file)"
   ]
  },
  {
   "cell_type": "markdown",
   "metadata": {},
   "source": [
    "### Data Dictionary\n",
    "\n",
    "Now that we've fixed our data, and given it appropriate names, let's create a [data dictionary](http://library.ucmerced.edu/node/10249). \n",
    "\n",
    "A data dictionary provides a quick overview of features/variables/columns, alongside data types and descriptions. The more descriptive you can be, the more useful this document is.\n",
    "\n",
    "Example of a Fictional Data Dictionary Entry: \n",
    "\n",
    "|Feature|Type|Dataset|Description|\n",
    "|---|---|---|---|\n",
    "|**county_pop**|*integer*|2010 census|The population of the county (units in thousands, where 2.5 represents 2500 people).| \n",
    "|**per_poverty**|*float*|2010 census|The percent of the county over the age of 18 living below the 200% of official US poverty rate (units percent to two decimal places 98.10 means 98.1%)|\n",
    "\n",
    "[Here's a quick link to a short guide for formatting markdown in Jupyter notebooks](https://jupyter-notebook.readthedocs.io/en/stable/examples/Notebook/Working%20With%20Markdown%20Cells.html).\n",
    "\n",
    "Provided is the skeleton for formatting a markdown table, with columns headers that will help you create a data dictionary to quickly summarize your data, as well as some examples. **This would be a great thing to copy and paste into your custom README for this project.**\n",
    "\n",
    "*Note*: if you are unsure of what a feature is, check the source of the data! This can be found in the README."
   ]
  },
  {
   "cell_type": "markdown",
   "metadata": {},
   "source": [
    "|Feature|Type|Dataset|Description|\n",
    "|---|---|---|---|\n",
    "|country|object|population.csv|The name of the country being studied \n",
    "|code|object|share-of-adults-who-smoke.csv|Country code for specific country\n",
    "|tabacco_use|float|share-of-adults-who-smoke.csv|The percent of adults who smoke in the respective country\n",
    "|year|int|share-of-adults-who-smoke.csv|Year the data was taken from\n",
    "|1800_pop|object|merged_data.csv|Population in the country in the given years\n",
    "|1800_life|object|merged_data.csv|Life expectancy in the country in the given years\n"
   ]
  },
  {
   "cell_type": "markdown",
   "metadata": {},
   "source": [
    "## Exploratory Data Analysis\n",
    "\n",
    "Complete the following steps to explore your data. You are welcome to do more EDA than the steps outlined here as you feel necessary:\n",
    "1. Summary Statistics.\n",
    "2. Use a **dictionary comprehension** to apply the standard deviation function you create in part 1 to each numeric column in one of your dataframes.  **No loops**.\n",
    "    - Assign the output to variable `sd` as a dictionary where: \n",
    "        - Each column name is now a key \n",
    "        - That standard deviation of the column is the value\n",
    "        - *Example Output :* `{'1801': 3.80, '1802': 3.93, ...}`\n",
    "3. Investigate trends in the data.\n",
    "    - Using sorting and/or masking (along with the `.head()` method to avoid printing our entire dataframe), consider questions relevant to your problem statement. Some examples are provided below (but feel free to change these questions for your specific problem):\n",
    "        - Which states have the highest and lowest populations for the past few decades?\n",
    "        - Which states have the highest and lowest economic growth over the course of the dataset?\n",
    "        - What years were there new countries created?\n",
    "        - Do any countries have higher growth rates of population than their economy?\n",
    "        - Which countries have had the lowest population growth?\n",
    "    - **You should comment on your findings at each step in a markdown cell below your code block**. Make sure you include at least one example of sorting your dataframe by a column, and one example of using boolean filtering (i.e., masking) to select a subset of the dataframe."
   ]
  },
  {
   "cell_type": "code",
   "execution_count": 18,
   "metadata": {},
   "outputs": [
    {
     "data": {
      "text/html": [
       "<div>\n",
       "<style scoped>\n",
       "    .dataframe tbody tr th:only-of-type {\n",
       "        vertical-align: middle;\n",
       "    }\n",
       "\n",
       "    .dataframe tbody tr th {\n",
       "        vertical-align: top;\n",
       "    }\n",
       "\n",
       "    .dataframe thead th {\n",
       "        text-align: right;\n",
       "    }\n",
       "</style>\n",
       "<table border=\"1\" class=\"dataframe\">\n",
       "  <thead>\n",
       "    <tr style=\"text-align: right;\">\n",
       "      <th></th>\n",
       "      <th>1800_life</th>\n",
       "      <th>1801_life</th>\n",
       "      <th>1802_life</th>\n",
       "      <th>1803_life</th>\n",
       "      <th>1804_life</th>\n",
       "      <th>1805_life</th>\n",
       "      <th>1806_life</th>\n",
       "      <th>1807_life</th>\n",
       "      <th>1808_life</th>\n",
       "      <th>1809_life</th>\n",
       "      <th>...</th>\n",
       "      <th>2093_life</th>\n",
       "      <th>2094_life</th>\n",
       "      <th>2095_life</th>\n",
       "      <th>2096_life</th>\n",
       "      <th>2097_life</th>\n",
       "      <th>2098_life</th>\n",
       "      <th>2099_life</th>\n",
       "      <th>2100_life</th>\n",
       "      <th>year</th>\n",
       "      <th>tabacco_use</th>\n",
       "    </tr>\n",
       "  </thead>\n",
       "  <tbody>\n",
       "    <tr>\n",
       "      <th>count</th>\n",
       "      <td>151.000000</td>\n",
       "      <td>151.000000</td>\n",
       "      <td>151.000000</td>\n",
       "      <td>151.000000</td>\n",
       "      <td>151.000000</td>\n",
       "      <td>151.000000</td>\n",
       "      <td>151.000000</td>\n",
       "      <td>151.000000</td>\n",
       "      <td>151.000000</td>\n",
       "      <td>151.000000</td>\n",
       "      <td>...</td>\n",
       "      <td>151.000000</td>\n",
       "      <td>151.000000</td>\n",
       "      <td>151.000000</td>\n",
       "      <td>151.000000</td>\n",
       "      <td>151.000000</td>\n",
       "      <td>151.000000</td>\n",
       "      <td>151.000000</td>\n",
       "      <td>151.000000</td>\n",
       "      <td>151.0</td>\n",
       "      <td>151.000000</td>\n",
       "    </tr>\n",
       "    <tr>\n",
       "      <th>mean</th>\n",
       "      <td>31.740397</td>\n",
       "      <td>31.690728</td>\n",
       "      <td>31.711258</td>\n",
       "      <td>31.594702</td>\n",
       "      <td>31.687417</td>\n",
       "      <td>31.841722</td>\n",
       "      <td>31.912583</td>\n",
       "      <td>31.856291</td>\n",
       "      <td>31.594040</td>\n",
       "      <td>31.505298</td>\n",
       "      <td>...</td>\n",
       "      <td>83.969536</td>\n",
       "      <td>84.085430</td>\n",
       "      <td>84.205960</td>\n",
       "      <td>84.323179</td>\n",
       "      <td>84.445695</td>\n",
       "      <td>84.560927</td>\n",
       "      <td>84.679470</td>\n",
       "      <td>84.798675</td>\n",
       "      <td>2020.0</td>\n",
       "      <td>19.644371</td>\n",
       "    </tr>\n",
       "    <tr>\n",
       "      <th>std</th>\n",
       "      <td>3.906630</td>\n",
       "      <td>3.899630</td>\n",
       "      <td>4.055655</td>\n",
       "      <td>4.090098</td>\n",
       "      <td>4.052280</td>\n",
       "      <td>4.133672</td>\n",
       "      <td>4.247106</td>\n",
       "      <td>4.097651</td>\n",
       "      <td>4.238415</td>\n",
       "      <td>4.187056</td>\n",
       "      <td>...</td>\n",
       "      <td>5.803103</td>\n",
       "      <td>5.791688</td>\n",
       "      <td>5.783335</td>\n",
       "      <td>5.778898</td>\n",
       "      <td>5.764879</td>\n",
       "      <td>5.759606</td>\n",
       "      <td>5.752754</td>\n",
       "      <td>5.749504</td>\n",
       "      <td>0.0</td>\n",
       "      <td>9.487842</td>\n",
       "    </tr>\n",
       "    <tr>\n",
       "      <th>min</th>\n",
       "      <td>23.400000</td>\n",
       "      <td>23.400000</td>\n",
       "      <td>23.400000</td>\n",
       "      <td>19.600000</td>\n",
       "      <td>23.400000</td>\n",
       "      <td>23.400000</td>\n",
       "      <td>23.400000</td>\n",
       "      <td>23.400000</td>\n",
       "      <td>12.500000</td>\n",
       "      <td>13.400000</td>\n",
       "      <td>...</td>\n",
       "      <td>67.000000</td>\n",
       "      <td>67.100000</td>\n",
       "      <td>67.200000</td>\n",
       "      <td>67.300000</td>\n",
       "      <td>67.400000</td>\n",
       "      <td>67.500000</td>\n",
       "      <td>67.600000</td>\n",
       "      <td>67.700000</td>\n",
       "      <td>2020.0</td>\n",
       "      <td>3.500000</td>\n",
       "    </tr>\n",
       "    <tr>\n",
       "      <th>25%</th>\n",
       "      <td>29.200000</td>\n",
       "      <td>29.150000</td>\n",
       "      <td>29.050000</td>\n",
       "      <td>29.050000</td>\n",
       "      <td>29.150000</td>\n",
       "      <td>29.200000</td>\n",
       "      <td>29.200000</td>\n",
       "      <td>29.200000</td>\n",
       "      <td>29.150000</td>\n",
       "      <td>28.950000</td>\n",
       "      <td>...</td>\n",
       "      <td>80.000000</td>\n",
       "      <td>80.150000</td>\n",
       "      <td>80.300000</td>\n",
       "      <td>80.400000</td>\n",
       "      <td>80.550000</td>\n",
       "      <td>80.650000</td>\n",
       "      <td>80.750000</td>\n",
       "      <td>80.900000</td>\n",
       "      <td>2020.0</td>\n",
       "      <td>11.450000</td>\n",
       "    </tr>\n",
       "    <tr>\n",
       "      <th>50%</th>\n",
       "      <td>32.000000</td>\n",
       "      <td>32.000000</td>\n",
       "      <td>32.000000</td>\n",
       "      <td>31.800000</td>\n",
       "      <td>31.900000</td>\n",
       "      <td>32.000000</td>\n",
       "      <td>32.000000</td>\n",
       "      <td>32.000000</td>\n",
       "      <td>31.900000</td>\n",
       "      <td>31.800000</td>\n",
       "      <td>...</td>\n",
       "      <td>84.500000</td>\n",
       "      <td>84.700000</td>\n",
       "      <td>84.800000</td>\n",
       "      <td>85.000000</td>\n",
       "      <td>85.100000</td>\n",
       "      <td>85.200000</td>\n",
       "      <td>85.300000</td>\n",
       "      <td>85.400000</td>\n",
       "      <td>2020.0</td>\n",
       "      <td>20.200000</td>\n",
       "    </tr>\n",
       "    <tr>\n",
       "      <th>75%</th>\n",
       "      <td>34.100000</td>\n",
       "      <td>34.300000</td>\n",
       "      <td>34.300000</td>\n",
       "      <td>34.000000</td>\n",
       "      <td>34.100000</td>\n",
       "      <td>34.100000</td>\n",
       "      <td>34.300000</td>\n",
       "      <td>34.250000</td>\n",
       "      <td>34.100000</td>\n",
       "      <td>34.000000</td>\n",
       "      <td>...</td>\n",
       "      <td>88.450000</td>\n",
       "      <td>88.550000</td>\n",
       "      <td>88.650000</td>\n",
       "      <td>88.750000</td>\n",
       "      <td>88.850000</td>\n",
       "      <td>88.950000</td>\n",
       "      <td>89.050000</td>\n",
       "      <td>89.150000</td>\n",
       "      <td>2020.0</td>\n",
       "      <td>25.450000</td>\n",
       "    </tr>\n",
       "    <tr>\n",
       "      <th>max</th>\n",
       "      <td>42.900000</td>\n",
       "      <td>40.300000</td>\n",
       "      <td>44.400000</td>\n",
       "      <td>44.800000</td>\n",
       "      <td>42.800000</td>\n",
       "      <td>44.300000</td>\n",
       "      <td>45.800000</td>\n",
       "      <td>43.600000</td>\n",
       "      <td>43.500000</td>\n",
       "      <td>41.700000</td>\n",
       "      <td>...</td>\n",
       "      <td>93.600000</td>\n",
       "      <td>93.700000</td>\n",
       "      <td>93.800000</td>\n",
       "      <td>94.000000</td>\n",
       "      <td>94.100000</td>\n",
       "      <td>94.200000</td>\n",
       "      <td>94.300000</td>\n",
       "      <td>94.400000</td>\n",
       "      <td>2020.0</td>\n",
       "      <td>44.100000</td>\n",
       "    </tr>\n",
       "  </tbody>\n",
       "</table>\n",
       "<p>8 rows × 303 columns</p>\n",
       "</div>"
      ],
      "text/plain": [
       "        1800_life   1801_life   1802_life   1803_life   1804_life   1805_life  \\\n",
       "count  151.000000  151.000000  151.000000  151.000000  151.000000  151.000000   \n",
       "mean    31.740397   31.690728   31.711258   31.594702   31.687417   31.841722   \n",
       "std      3.906630    3.899630    4.055655    4.090098    4.052280    4.133672   \n",
       "min     23.400000   23.400000   23.400000   19.600000   23.400000   23.400000   \n",
       "25%     29.200000   29.150000   29.050000   29.050000   29.150000   29.200000   \n",
       "50%     32.000000   32.000000   32.000000   31.800000   31.900000   32.000000   \n",
       "75%     34.100000   34.300000   34.300000   34.000000   34.100000   34.100000   \n",
       "max     42.900000   40.300000   44.400000   44.800000   42.800000   44.300000   \n",
       "\n",
       "        1806_life   1807_life   1808_life   1809_life  ...   2093_life  \\\n",
       "count  151.000000  151.000000  151.000000  151.000000  ...  151.000000   \n",
       "mean    31.912583   31.856291   31.594040   31.505298  ...   83.969536   \n",
       "std      4.247106    4.097651    4.238415    4.187056  ...    5.803103   \n",
       "min     23.400000   23.400000   12.500000   13.400000  ...   67.000000   \n",
       "25%     29.200000   29.200000   29.150000   28.950000  ...   80.000000   \n",
       "50%     32.000000   32.000000   31.900000   31.800000  ...   84.500000   \n",
       "75%     34.300000   34.250000   34.100000   34.000000  ...   88.450000   \n",
       "max     45.800000   43.600000   43.500000   41.700000  ...   93.600000   \n",
       "\n",
       "        2094_life   2095_life   2096_life   2097_life   2098_life   2099_life  \\\n",
       "count  151.000000  151.000000  151.000000  151.000000  151.000000  151.000000   \n",
       "mean    84.085430   84.205960   84.323179   84.445695   84.560927   84.679470   \n",
       "std      5.791688    5.783335    5.778898    5.764879    5.759606    5.752754   \n",
       "min     67.100000   67.200000   67.300000   67.400000   67.500000   67.600000   \n",
       "25%     80.150000   80.300000   80.400000   80.550000   80.650000   80.750000   \n",
       "50%     84.700000   84.800000   85.000000   85.100000   85.200000   85.300000   \n",
       "75%     88.550000   88.650000   88.750000   88.850000   88.950000   89.050000   \n",
       "max     93.700000   93.800000   94.000000   94.100000   94.200000   94.300000   \n",
       "\n",
       "        2100_life    year  tabacco_use  \n",
       "count  151.000000   151.0   151.000000  \n",
       "mean    84.798675  2020.0    19.644371  \n",
       "std      5.749504     0.0     9.487842  \n",
       "min     67.700000  2020.0     3.500000  \n",
       "25%     80.900000  2020.0    11.450000  \n",
       "50%     85.400000  2020.0    20.200000  \n",
       "75%     89.150000  2020.0    25.450000  \n",
       "max     94.400000  2020.0    44.100000  \n",
       "\n",
       "[8 rows x 303 columns]"
      ]
     },
     "execution_count": 18,
     "metadata": {},
     "output_type": "execute_result"
    }
   ],
   "source": [
    "#Code:\n",
    "#1. Summary Statistics\n",
    "summary_stats = merged_df.describe()\n",
    "summary_stats"
   ]
  },
  {
   "cell_type": "code",
   "execution_count": 19,
   "metadata": {},
   "outputs": [
    {
     "data": {
      "text/plain": [
       "{'1800_life': 3.8936725510534935,\n",
       " '1801_life': 3.886695782420219,\n",
       " '1802_life': 4.042203566746021,\n",
       " '1803_life': 4.076532549412539,\n",
       " '1804_life': 4.038839657571351,\n",
       " '1805_life': 4.1199620266991435,\n",
       " '1806_life': 4.233019128841019,\n",
       " '1807_life': 4.0840600523398205,\n",
       " '1808_life': 4.224357497101991,\n",
       " '1809_life': 4.173168600651817,\n",
       " '1810_life': 3.9646167588395893,\n",
       " '1811_life': 3.871136978242954,\n",
       " '1812_life': 3.994277517104369,\n",
       " '1813_life': 3.8887126241761045,\n",
       " '1814_life': 3.9498397633823887,\n",
       " '1815_life': 4.2586689901276795,\n",
       " '1816_life': 4.237716209675015,\n",
       " '1817_life': 4.481660263322713,\n",
       " '1818_life': 4.866162527040464,\n",
       " '1819_life': 4.87524300791367,\n",
       " '1820_life': 4.756840469117022,\n",
       " '1821_life': 4.161556733887724,\n",
       " '1822_life': 4.43422533061942,\n",
       " '1823_life': 4.552345819751756,\n",
       " '1824_life': 4.356744009878874,\n",
       " '1825_life': 4.305412767367144,\n",
       " '1826_life': 4.210526030137173,\n",
       " '1827_life': 4.325925042401831,\n",
       " '1828_life': 4.103354652847297,\n",
       " '1829_life': 4.045201816264536,\n",
       " '1830_life': 4.1779222621195995,\n",
       " '1831_life': 4.11328677682657,\n",
       " '1832_life': 4.12854491548311,\n",
       " '1833_life': 4.251537721952395,\n",
       " '1834_life': 4.030816123238419,\n",
       " '1835_life': 4.308877991143858,\n",
       " '1836_life': 4.278277733594844,\n",
       " '1837_life': 4.156834051329512,\n",
       " '1838_life': 4.181266580801468,\n",
       " '1839_life': 4.250039407273631,\n",
       " '1840_life': 4.258580628437706,\n",
       " '1841_life': 4.5248434391440995,\n",
       " '1842_life': 4.439126050782146,\n",
       " '1843_life': 4.419214974240688,\n",
       " '1844_life': 4.767200407795136,\n",
       " '1845_life': 4.624113369616685,\n",
       " '1846_life': 4.4281754948552186,\n",
       " '1847_life': 4.109562401987268,\n",
       " '1848_life': 4.616316740268201,\n",
       " '1849_life': 4.677158401215056,\n",
       " '1850_life': 4.871614737209885,\n",
       " '1851_life': 4.538358653475504,\n",
       " '1852_life': 4.374796442162173,\n",
       " '1853_life': 4.428858339751679,\n",
       " '1854_life': 4.935121732681056,\n",
       " '1855_life': 4.400102466402012,\n",
       " '1856_life': 4.718392143514736,\n",
       " '1857_life': 4.329776001254907,\n",
       " '1858_life': 4.319227027773719,\n",
       " '1859_life': 4.351887577330589,\n",
       " '1860_life': 4.799748816578832,\n",
       " '1861_life': 4.508254785637957,\n",
       " '1862_life': 4.440831275003822,\n",
       " '1863_life': 4.39260934812377,\n",
       " '1864_life': 4.356113994684606,\n",
       " '1865_life': 4.39836868858675,\n",
       " '1866_life': 4.493953951904355,\n",
       " '1867_life': 5.240086971491524,\n",
       " '1868_life': 5.684732101963414,\n",
       " '1869_life': 4.912082808687884,\n",
       " '1870_life': 4.895206019346206,\n",
       " '1871_life': 4.7872998183628415,\n",
       " '1872_life': 4.9913943749454,\n",
       " '1873_life': 4.913834900664639,\n",
       " '1874_life': 4.8091160347009465,\n",
       " '1875_life': 5.325068546815925,\n",
       " '1876_life': 4.901096902149681,\n",
       " '1877_life': 5.1180945137941025,\n",
       " '1878_life': 5.1098902596686715,\n",
       " '1879_life': 5.154152706202489,\n",
       " '1880_life': 4.993219822901432,\n",
       " '1881_life': 5.099652609183666,\n",
       " '1882_life': 5.264135726846343,\n",
       " '1883_life': 5.2486088888153395,\n",
       " '1884_life': 5.289025157304533,\n",
       " '1885_life': 5.438682199519059,\n",
       " '1886_life': 5.42685245788631,\n",
       " '1887_life': 5.595554899992638,\n",
       " '1888_life': 5.81661936443028,\n",
       " '1889_life': 6.273511996101514,\n",
       " '1890_life': 6.292343880394991,\n",
       " '1891_life': 6.024871698863279,\n",
       " '1892_life': 6.1311587328636215,\n",
       " '1893_life': 6.3596926243917045,\n",
       " '1894_life': 6.049664053181202,\n",
       " '1895_life': 6.344521490282816,\n",
       " '1896_life': 6.666872056541109,\n",
       " '1897_life': 6.698383582369099,\n",
       " '1898_life': 6.6205023426988685,\n",
       " '1899_life': 6.600697433888713,\n",
       " '1900_life': 6.595367264060101,\n",
       " '1901_life': 6.906707575586903,\n",
       " '1902_life': 7.321221076977522,\n",
       " '1903_life': 7.250855863243217,\n",
       " '1904_life': 7.582738155982673,\n",
       " '1905_life': 7.541172458512864,\n",
       " '1906_life': 7.666799065005037,\n",
       " '1907_life': 7.7318612246068605,\n",
       " '1908_life': 7.621057219007662,\n",
       " '1909_life': 7.890753738499387,\n",
       " '1910_life': 8.03161039224025,\n",
       " '1911_life': 7.9120587494446895,\n",
       " '1912_life': 8.294906634532463,\n",
       " '1913_life': 8.40564702910986,\n",
       " '1914_life': 8.146906010287509,\n",
       " '1915_life': 8.327372218446738,\n",
       " '1916_life': 8.009885180363394,\n",
       " '1917_life': 8.138357379682759,\n",
       " '1918_life': 11.460274016808114,\n",
       " '1919_life': 8.523445145244084,\n",
       " '1920_life': 9.082428691847932,\n",
       " '1921_life': 9.621057441001888,\n",
       " '1922_life': 9.577798124846368,\n",
       " '1923_life': 9.481625024471725,\n",
       " '1924_life': 9.518187677872225,\n",
       " '1925_life': 9.687179578293021,\n",
       " '1926_life': 9.749176289005602,\n",
       " '1927_life': 9.704565532109624,\n",
       " '1928_life': 9.837073386249385,\n",
       " '1929_life': 9.696858893946265,\n",
       " '1930_life': 10.01334025323519,\n",
       " '1931_life': 10.336023588572408,\n",
       " '1932_life': 10.723828870124596,\n",
       " '1933_life': 11.644058319374464,\n",
       " '1934_life': 10.297520228397747,\n",
       " '1935_life': 10.328849341646166,\n",
       " '1936_life': 10.370472661107172,\n",
       " '1937_life': 10.281983563525767,\n",
       " '1938_life': 10.43869386211463,\n",
       " '1939_life': 10.387260848286903,\n",
       " '1940_life': 10.05144313739752,\n",
       " '1941_life': 10.704359123321773,\n",
       " '1942_life': 11.315429810677085,\n",
       " '1943_life': 11.725128887468331,\n",
       " '1944_life': 11.562778383857939,\n",
       " '1945_life': 10.935346636533186,\n",
       " '1946_life': 10.353465319017605,\n",
       " '1947_life': 11.02543856728929,\n",
       " '1948_life': 10.61037968268136,\n",
       " '1949_life': 10.556863055474212,\n",
       " '1950_life': 10.793049562714321,\n",
       " '1951_life': 10.94686678338334,\n",
       " '1952_life': 10.978960545870345,\n",
       " '1953_life': 10.89755381234808,\n",
       " '1954_life': 10.879958289933128,\n",
       " '1955_life': 10.805273132101846,\n",
       " '1956_life': 10.783288729301542,\n",
       " '1957_life': 10.767046726301071,\n",
       " '1958_life': 10.885451112335153,\n",
       " '1959_life': 10.70611904681223,\n",
       " '1960_life': 11.120989526668858,\n",
       " '1961_life': 10.861371376798084,\n",
       " '1962_life': 10.365824477163196,\n",
       " '1963_life': 10.303139543055057,\n",
       " '1964_life': 10.287623727801579,\n",
       " '1965_life': 10.252209415711365,\n",
       " '1966_life': 10.184834419646066,\n",
       " '1967_life': 9.945148720402221,\n",
       " '1968_life': 9.79831339105952,\n",
       " '1969_life': 9.638443267174134,\n",
       " '1970_life': 9.715014511129125,\n",
       " '1971_life': 9.575652620507679,\n",
       " '1972_life': 9.985033095891865,\n",
       " '1973_life': 9.309294678637578,\n",
       " '1974_life': 9.318200195036924,\n",
       " '1975_life': 9.535808938968996,\n",
       " '1976_life': 9.700426834792317,\n",
       " '1977_life': 9.399077729433893,\n",
       " '1978_life': 9.404003777583974,\n",
       " '1979_life': 9.31095512586681,\n",
       " '1980_life': 8.750593030333835,\n",
       " '1981_life': 8.77912642753625,\n",
       " '1982_life': 8.84087342612218,\n",
       " '1983_life': 8.7247914518235,\n",
       " '1984_life': 8.787994430087055,\n",
       " '1985_life': 8.646505221276119,\n",
       " '1986_life': 8.708080259912537,\n",
       " '1987_life': 8.593902889761187,\n",
       " '1988_life': 8.51578014446094,\n",
       " '1989_life': 8.422363307010533,\n",
       " '1990_life': 8.538539187862005,\n",
       " '1991_life': 8.549613985593862,\n",
       " '1992_life': 8.56788918321885,\n",
       " '1993_life': 8.673702711233712,\n",
       " '1994_life': 9.926596788506505,\n",
       " '1995_life': 9.008523757257638,\n",
       " '1996_life': 9.17767459532036,\n",
       " '1997_life': 9.301397046579254,\n",
       " '1998_life': 9.464995421407577,\n",
       " '1999_life': 9.606128759785204,\n",
       " '2000_life': 9.650089663635539,\n",
       " '2001_life': 9.695247936551384,\n",
       " '2002_life': 9.699239942967242,\n",
       " '2003_life': 9.669302267579967,\n",
       " '2004_life': 9.58629925774586,\n",
       " '2005_life': 9.482405738823646,\n",
       " '2006_life': 9.253934356979515,\n",
       " '2007_life': 9.03401774416585,\n",
       " '2008_life': 8.83256858423823,\n",
       " '2009_life': 8.57549579373789,\n",
       " '2010_life': 8.92636121634746,\n",
       " '2011_life': 8.24418192898845,\n",
       " '2012_life': 8.08574861908953,\n",
       " '2013_life': 7.95709604037354,\n",
       " '2014_life': 7.893559643608179,\n",
       " '2015_life': 7.714068070153163,\n",
       " '2016_life': 7.553912366147559,\n",
       " '2017_life': 7.389987263741138,\n",
       " '2018_life': 7.233387616328347,\n",
       " '2019_life': 7.057326584123582,\n",
       " '2020_life': 6.786027342851949,\n",
       " '2021_life': 6.942105724730646,\n",
       " '2022_life': 6.895173103776792,\n",
       " '2023_life': 6.854666721088579,\n",
       " '2024_life': 6.815521593435688,\n",
       " '2025_life': 6.776343917860038,\n",
       " '2026_life': 6.736167386190629,\n",
       " '2027_life': 6.69327365976836,\n",
       " '2028_life': 6.655363969545485,\n",
       " '2029_life': 6.622909061216144,\n",
       " '2030_life': 6.589289759068728,\n",
       " '2031_life': 6.552657297730905,\n",
       " '2032_life': 6.5294316352235375,\n",
       " '2033_life': 6.49344485647782,\n",
       " '2034_life': 6.463831555045445,\n",
       " '2035_life': 6.438473265082033,\n",
       " '2036_life': 6.416415589565994,\n",
       " '2037_life': 6.392497987874301,\n",
       " '2038_life': 6.3658335411656894,\n",
       " '2039_life': 6.347353403103823,\n",
       " '2040_life': 6.328049212279694,\n",
       " '2041_life': 6.314459553767384,\n",
       " '2042_life': 6.293210332892281,\n",
       " '2043_life': 6.273143423089323,\n",
       " '2044_life': 6.2533782984060835,\n",
       " '2045_life': 6.237665694197952,\n",
       " '2046_life': 6.2216430078773035,\n",
       " '2047_life': 6.2078233851397995,\n",
       " '2048_life': 6.197803470670776,\n",
       " '2049_life': 6.180901031738166,\n",
       " '2050_life': 6.171395225543984,\n",
       " '2051_life': 6.1577099105499435,\n",
       " '2052_life': 6.144192411565069,\n",
       " '2053_life': 6.132462131494949,\n",
       " '2054_life': 6.118251767684675,\n",
       " '2055_life': 6.112115312927791,\n",
       " '2056_life': 6.102559999063442,\n",
       " '2057_life': 6.096859157998813,\n",
       " '2058_life': 6.084989775321294,\n",
       " '2059_life': 6.069670064970664,\n",
       " '2060_life': 6.059952510437118,\n",
       " '2061_life': 6.052799785740572,\n",
       " '2062_life': 6.044101767584833,\n",
       " '2063_life': 6.036495805552727,\n",
       " '2064_life': 6.0291883196117215,\n",
       " '2065_life': 6.022060449057528,\n",
       " '2066_life': 6.014720841742163,\n",
       " '2067_life': 6.004480075287009,\n",
       " '2068_life': 5.995942592566412,\n",
       " '2069_life': 5.9884786975201845,\n",
       " '2070_life': 5.980563155083733,\n",
       " '2071_life': 5.974955552598919,\n",
       " '2072_life': 5.960517654684945,\n",
       " '2073_life': 5.949350787319516,\n",
       " '2074_life': 5.943895401886915,\n",
       " '2075_life': 5.934856290404589,\n",
       " '2076_life': 5.930524254517805,\n",
       " '2077_life': 5.923565676451256,\n",
       " '2078_life': 5.914432613141248,\n",
       " '2079_life': 5.899510966092944,\n",
       " '2080_life': 5.8946041101921365,\n",
       " '2081_life': 5.8908739172527635,\n",
       " '2082_life': 5.875098816690025,\n",
       " '2083_life': 5.868346409661769,\n",
       " '2084_life': 5.86060769137216,\n",
       " '2085_life': 5.857656737117034,\n",
       " '2086_life': 5.848327535201241,\n",
       " '2087_life': 5.84044875242931,\n",
       " '2088_life': 5.826156973778718,\n",
       " '2089_life': 5.823393416308203,\n",
       " '2090_life': 5.813551555958316,\n",
       " '2091_life': 5.800221174829802,\n",
       " '2092_life': 5.794661721714413,\n",
       " '2093_life': 5.783855051373247,\n",
       " '2094_life': 5.772478634253489,\n",
       " '2095_life': 5.7641531176734055,\n",
       " '2096_life': 5.759730536704382,\n",
       " '2097_life': 5.745758413669743,\n",
       " '2098_life': 5.740502937445956,\n",
       " '2099_life': 5.733673254627765,\n",
       " '2100_life': 5.730434454768066,\n",
       " 'year': 0.0,\n",
       " 'tabacco_use': 9.456373412366801}"
      ]
     },
     "execution_count": 19,
     "metadata": {},
     "output_type": "execute_result"
    }
   ],
   "source": [
    "# 2.apply the standard deviation function to each numeric column\n",
    "#read in my standard_dev function for each column\n",
    "#use dictionary comprehension to loop through the merged df\n",
    "#only apply to columns with numeric values\n",
    "#inspiration for this line was used from https://stackoverflow.com/questions/55048445/dictionary-comprehension-to-apply-a-function-to-dataframe-columns and https://www.geeksforgeeks.org/python-pandas-dataframe-select_dtypes/\n",
    "sd = {df_column: standard_dev(merged_df[df_column]) for df_column in merged_df.select_dtypes(include=np.number)}\n",
    "sd"
   ]
  },
  {
   "cell_type": "markdown",
   "metadata": {},
   "source": [
    "- Which countries have the highest and lowest tabacco use for 2020?\n",
    "- Which countries have the highest and lowest life expectancy for 2020?\n",
    "- Which country had the biggest difference in population size comparing 1800 to 2020?\n",
    "- Which country had the lowest difference in population size comparing 1800 to 2020?\n",
    "- Which country had the biggest change in life expectancy comparing 1800 to 2020?\n",
    "- Which country had the smallest change in life expectancy comparing 1800 to 2020?"
   ]
  },
  {
   "cell_type": "code",
   "execution_count": 20,
   "metadata": {},
   "outputs": [
    {
     "name": "stdout",
     "output_type": "stream",
     "text": [
      "Country with highest tabacco use for 2020: Myanmar, 44.1\n",
      "Country with lowest tabacco use for 2020: Ghana, 3.5\n"
     ]
    }
   ],
   "source": [
    "# Which countries have the highest and lowest tabacco use for 2020?\n",
    "highest = merged_df['tabacco_use'].max()\n",
    "index_highest = merged_df['tabacco_use'].idxmax()\n",
    "highest_country = merged_df.loc[index_highest]['country']\n",
    "print(f'Country with highest tabacco use for 2020: {highest_country}, {highest}')\n",
    "\n",
    "lowest = merged_df['tabacco_use'].min()\n",
    "index_lowest = merged_df['tabacco_use'].idxmin()\n",
    "lowest_country = merged_df.loc[index_lowest]['country']\n",
    "print(f'Country with lowest tabacco use for 2020: {lowest_country}, {lowest}')"
   ]
  },
  {
   "cell_type": "markdown",
   "metadata": {},
   "source": [
    "**This shows that the country with the highest tabacco use for 2020 is Myanmar and the country with the lowest tabacco use for 2020 is Ghana.**"
   ]
  },
  {
   "cell_type": "code",
   "execution_count": 21,
   "metadata": {},
   "outputs": [
    {
     "name": "stdout",
     "output_type": "stream",
     "text": [
      "Country with the highest life expectancy for 2020 is: Singapore, 84.9\n",
      "Country with the lowest life expectancy for 2020 is: Lesotho, 52.0\n"
     ]
    }
   ],
   "source": [
    "# Which countries have the highest and lowest life expectancy for 2020?\n",
    "highest_life = merged_df['2020_life'].max()\n",
    "index_highest_life = merged_df['2020_life'].idxmax()\n",
    "highest_country_life = merged_df.loc[index_highest_life]['country']\n",
    "print(f'Country with the highest life expectancy for 2020 is: {highest_country_life}, {highest_life}')\n",
    "\n",
    "smallest_life = merged_df['2020_life'].min()\n",
    "index_smallest_life = merged_df['2020_life'].idxmin()\n",
    "smallest_life_co = merged_df.loc[index_smallest_life]['country']\n",
    "print(f'Country with the lowest life expectancy for 2020 is: {smallest_life_co}, {smallest_life}')"
   ]
  },
  {
   "cell_type": "markdown",
   "metadata": {},
   "source": [
    "**This shows that the country with the highest life expectancy for 2020 is Singapore and the country with the lowest life expectancy is Lesotho.**"
   ]
  },
  {
   "cell_type": "code",
   "execution_count": 22,
   "metadata": {},
   "outputs": [
    {
     "name": "stdout",
     "output_type": "stream",
     "text": [
      "Country with the biggest difference in population size comparing 1800 to 2020 is: China, -329895000.0\n"
     ]
    }
   ],
   "source": [
    "# Which country had the biggest difference in population size comparing 1800 to 2100?\n",
    "difference = pd.to_numeric(merged_df['2020_pop']) - pd.to_numeric(merged_df['1800_pop']).max()\n",
    "index_difference = difference.idxmax()\n",
    "biggest_country = merged_df.loc[index_difference]['country']\n",
    "print(f'Country with the biggest difference in population size comparing 1800 to 2020 is: {biggest_country}, {difference.min()}')"
   ]
  },
  {
   "cell_type": "markdown",
   "metadata": {},
   "source": [
    "**This shows that the country with the biggest difference in population size comparing 1800 to 2020 is India.**"
   ]
  },
  {
   "cell_type": "code",
   "execution_count": 23,
   "metadata": {},
   "outputs": [
    {
     "name": "stdout",
     "output_type": "stream",
     "text": [
      "Country with the smallest difference in population size comparing 1800 to 2020 is: Tonga, 102740.0\n"
     ]
    }
   ],
   "source": [
    "# Which country had the smallest difference in population size comparing 1800 to 2100?\n",
    "diff = pd.to_numeric(merged_df['2020_pop']) - pd.to_numeric(merged_df['1800_pop']).min()\n",
    "index_diff = diff.idxmin()\n",
    "smallest_country = merged_df.loc[index_diff]['country']\n",
    "print(f'Country with the smallest difference in population size comparing 1800 to 2020 is: {smallest_country}, {diff.min()}')"
   ]
  },
  {
   "cell_type": "markdown",
   "metadata": {},
   "source": [
    "**This shows that the country with the smallest difference in population size comparing 1800 to 2020 is Seychelles.**"
   ]
  },
  {
   "cell_type": "code",
   "execution_count": 24,
   "metadata": {},
   "outputs": [
    {
     "name": "stdout",
     "output_type": "stream",
     "text": [
      "Country with the biggest change in life expectancy comparing 1800 to 2020 is: Singapore, 9.100000000000001\n"
     ]
    }
   ],
   "source": [
    "# Which country had the biggest change in life expectancy comparing 1800 to 2100?\n",
    "diff_life = pd.to_numeric(merged_df['2020_life']) - pd.to_numeric(merged_df['1800_life']).max()\n",
    "index_diff_life = diff_life.idxmax()\n",
    "biggest_country_life = merged_df.loc[index_diff_life]['country']\n",
    "print(f'Country with the biggest change in life expectancy comparing 1800 to 2020 is: {biggest_country_life}, {diff_life.min()}')"
   ]
  },
  {
   "cell_type": "markdown",
   "metadata": {},
   "source": [
    "**This shows that the country with the biggest change in life expectancy comparing 1800 to 2020 is Singapore.**"
   ]
  },
  {
   "cell_type": "code",
   "execution_count": 25,
   "metadata": {},
   "outputs": [
    {
     "name": "stdout",
     "output_type": "stream",
     "text": [
      "Country with the smallest change in life expectancy comparing 1800 to 2020 is: Lesotho, 28.6\n"
     ]
    }
   ],
   "source": [
    "# Which country had the smallest change in life expectancy comparing 1800 to 2100?\n",
    "small_life = pd.to_numeric(merged_df['2020_life']) - pd.to_numeric(merged_df['1800_life']).min()\n",
    "index_small_life = small_life.idxmin()\n",
    "smallest_country_life = merged_df.loc[index_small_life]['country']\n",
    "print(f'Country with the smallest change in life expectancy comparing 1800 to 2020 is: {smallest_country_life}, {small_life.min()}');"
   ]
  },
  {
   "cell_type": "markdown",
   "metadata": {},
   "source": [
    "**This shows that the country with the smallest change in life expectancy comparing 1800 to 2020 is Solomon Islands.**"
   ]
  },
  {
   "cell_type": "code",
   "execution_count": null,
   "metadata": {},
   "outputs": [],
   "source": []
  },
  {
   "cell_type": "markdown",
   "metadata": {},
   "source": [
    "## Visualize the Data\n",
    "\n",
    "There's not a magic bullet recommendation for the right number of plots to understand a given dataset, but visualizing your data is *always* a good idea. Not only does it allow you to quickly convey your findings (even if you have a non-technical audience), it will often reveal trends in your data that escaped you when you were looking only at numbers. It is important to not only create visualizations, but to **interpret your visualizations** as well.\n",
    "\n",
    "**Every plot should**:\n",
    "- Have a title\n",
    "- Have axis labels\n",
    "- Have appropriate tick labels\n",
    "- Text is legible in a plot\n",
    "- Plots demonstrate meaningful and valid relationships\n",
    "- Have an interpretation to aid understanding\n",
    "\n",
    "Here is an example of what your plots should look like following the above guidelines. Note that while the content of this example is unrelated, the principles of visualization hold:\n",
    "\n",
    "![](https://snag.gy/hCBR1U.jpg)\n",
    "*Interpretation: The above image shows that as we increase our spending on advertising, our sales numbers also tend to increase. There is a positive correlation between advertising spending and sales.*\n",
    "\n",
    "---\n",
    "\n",
    "Here are some prompts to get you started with visualizations. Feel free to add additional visualizations as you see fit:\n",
    "1. Use Seaborn's heatmap with pandas `.corr()` to visualize correlations between all numeric features.\n",
    "    - Heatmaps are generally not appropriate for presentations, and should often be excluded from reports as they can be visually overwhelming. **However**, they can be extremely useful in identify relationships of potential interest (as well as identifying potential collinearity before modeling).\n",
    "    - Please take time to format your output, adding a title. Look through some of the additional arguments and options. (Axis labels aren't really necessary, as long as the title is informative).\n",
    "2. Visualize distributions using histograms. If you have a lot, consider writing a custom function and use subplots.\n",
    "    - *OPTIONAL*: Summarize the underlying distributions of your features (in words & statistics)\n",
    "         - Be thorough in your verbal description of these distributions.\n",
    "         - Be sure to back up these summaries with statistics.\n",
    "         - We generally assume that data we sample from a population will be normally distributed. Do we observe this trend? Explain your answers for each distribution and how you think this will affect estimates made from these data.\n",
    "3. Plot and interpret boxplots. \n",
    "    - Boxplots demonstrate central tendency and spread in variables. In a certain sense, these are somewhat redundant with histograms, but you may be better able to identify clear outliers or differences in IQR, etc.\n",
    "    - Multiple values can be plotted to a single boxplot as long as they are of the same relative scale (meaning they have similar min/max values).\n",
    "    - Each boxplot should:\n",
    "        - Only include variables of a similar scale\n",
    "        - Have clear labels for each variable\n",
    "        - Have appropriate titles and labels\n",
    "4. Plot and interpret scatter plots to view relationships between features. Feel free to write a custom function, and subplot if you'd like. Functions save both time and space.\n",
    "    - Your plots should have:\n",
    "        - Two clearly labeled axes\n",
    "        - A proper title\n",
    "        - Colors and symbols that are clear and unmistakable\n",
    "5. Additional plots of your choosing.\n",
    "    - Are there any additional trends or relationships you haven't explored? Was there something interesting you saw that you'd like to dive further into? It's likely that there are a few more plots you might want to generate to support your narrative and recommendations that you are building toward. **As always, make sure you're interpreting your plots as you go**."
   ]
  },
  {
   "cell_type": "code",
   "execution_count": 26,
   "metadata": {},
   "outputs": [
    {
     "data": {
      "image/png": "[encoded data removed]",
      "text/plain": [
       "<Figure size 400x400 with 2 Axes>"
      ]
     },
     "metadata": {},
     "output_type": "display_data"
    }
   ],
   "source": [
    "# Code\n",
    "#heatmap with seaborn\n",
    "plt.figure(figsize=(4, 4))\n",
    "sns.heatmap(merged_df[['tabacco_use', '2020_life']].corr(), annot=True, cmap='mako')\n",
    "plt.title(\"Correlation between Tabacco Use and Life Expectancy in 2020\")\n",
    "plt.show()"
   ]
  },
  {
   "cell_type": "markdown",
   "metadata": {},
   "source": [
    "**This heatmap shows a weak correlation between tabacco use and life expectancy in 2020.** "
   ]
  },
  {
   "cell_type": "markdown",
   "metadata": {},
   "source": [
    "Inspiration on how to tell the strength of a correlation was used from: https://www.statology.org/what-is-a-weak-correlation/#:~:text=In%20summary%3A-,1.,compared%20to%20a%20technology%20field."
   ]
  },
  {
   "cell_type": "code",
   "execution_count": 27,
   "metadata": {},
   "outputs": [
    {
     "data": {
      "image/png": "[encoded data removed]",
      "text/plain": [
       "<Figure size 400x400 with 1 Axes>"
      ]
     },
     "metadata": {},
     "output_type": "display_data"
    }
   ],
   "source": [
    "plt.figure(figsize=(4, 4))\n",
    "plt.hist(merged_df['tabacco_use'], bins=50, color='pink', edgecolor='white')\n",
    "plt.xlabel('Tabacco Use')\n",
    "plt.ylabel('Index of Countries')\n",
    "plt.title(\"Tabacco Use in Countries\", loc='left')\n",
    "plt.show()"
   ]
  },
  {
   "cell_type": "markdown",
   "metadata": {},
   "source": [
    "**This graph of tabacco use in countries has a right-skewed distribution.**"
   ]
  },
  {
   "cell_type": "code",
   "execution_count": 28,
   "metadata": {},
   "outputs": [
    {
     "data": {
      "image/png": "[encoded data removed]",
      "text/plain": [
       "<Figure size 400x400 with 1 Axes>"
      ]
     },
     "metadata": {},
     "output_type": "display_data"
    }
   ],
   "source": [
    "plt.figure(figsize=(4, 4))\n",
    "plt.hist(merged_df['2020_life'], bins=50, color='pink', edgecolor='white')\n",
    "plt.xlabel('Life Expectancy')\n",
    "plt.ylabel('Index of Country')\n",
    "plt.title(\"Life Expectancy in Countries\", loc='left')\n",
    "plt.show()"
   ]
  },
  {
   "cell_type": "markdown",
   "metadata": {},
   "source": [
    "**This graph of life expectancy in countrieshas a left-skewed distribution.**"
   ]
  },
  {
   "cell_type": "code",
   "execution_count": 29,
   "metadata": {},
   "outputs": [
    {
     "data": {
      "image/png": "[encoded data removed]",
      "text/plain": [
       "<Figure size 400x400 with 1 Axes>"
      ]
     },
     "metadata": {},
     "output_type": "display_data"
    }
   ],
   "source": [
    "plt.figure(figsize=(4, 4))\n",
    "plt.boxplot(merged_df['tabacco_use'])\n",
    "plt.xlabel('Tabacco Use')\n",
    "plt.ylabel('Index of Country')\n",
    "plt.title('Boxplot of Tabacco Use in Countries', loc='left')\n",
    "plt.show()"
   ]
  },
  {
   "cell_type": "markdown",
   "metadata": {},
   "source": [
    "**This boxplot shows no outliers meaning that all the data for the tabacco use throughout various countries are relatively close together with no outstanding values.**"
   ]
  },
  {
   "cell_type": "code",
   "execution_count": 30,
   "metadata": {},
   "outputs": [
    {
     "data": {
      "image/png": "[encoded data removed]",
      "text/plain": [
       "<Figure size 400x400 with 1 Axes>"
      ]
     },
     "metadata": {},
     "output_type": "display_data"
    }
   ],
   "source": [
    "plt.figure(figsize=(4, 4))\n",
    "plt.scatter(merged_df['tabacco_use'], merged_df['2020_life'])\n",
    "plt.xlabel('Tabacco Use')\n",
    "plt.ylabel('Life Expectancy')\n",
    "plt.title('Scatter Plot of Tabacco Use vs Life Expectancy in 2020', loc='left')\n",
    "plt.show()"
   ]
  },
  {
   "cell_type": "markdown",
   "metadata": {},
   "source": [
    "**The scatter plot does not show a relationship between tabacco use and life expectancy in 2020.**"
   ]
  },
  {
   "cell_type": "code",
   "execution_count": 31,
   "metadata": {
    "scrolled": true
   },
   "outputs": [
    {
     "data": {
      "image/png": "[encoded data removed]",
      "text/plain": [
       "<Figure size 500x500 with 1 Axes>"
      ]
     },
     "metadata": {},
     "output_type": "display_data"
    }
   ],
   "source": [
    "plt.figure(figsize=(5, 5))\n",
    "plt.plot(merged_df['tabacco_use'], color='orange')\n",
    "plt.xlabel('Tabacco Use')\n",
    "plt.ylabel('Index of Country')\n",
    "plt.title('Tabacco Use Through the Year 2020', loc='left')\n",
    "plt.show()\n"
   ]
  },
  {
   "cell_type": "markdown",
   "metadata": {},
   "source": [
    "**This graph shows that there is a very wide range of values for tabacco use throughout various countries.**"
   ]
  },
  {
   "cell_type": "code",
   "execution_count": 32,
   "metadata": {},
   "outputs": [
    {
     "data": {
      "image/png": "[encoded data removed]",
      "text/plain": [
       "<Figure size 500x500 with 1 Axes>"
      ]
     },
     "metadata": {},
     "output_type": "display_data"
    }
   ],
   "source": [
    "plt.figure(figsize=(5, 5))\n",
    "plt.plot(merged_df['2020_life'], color='purple')\n",
    "plt.xlabel('Life Expectancy')\n",
    "plt.ylabel('Index of Country')\n",
    "plt.title('Life Expectancy Through the Year 2020', loc='left')\n",
    "plt.show()"
   ]
  },
  {
   "cell_type": "markdown",
   "metadata": {},
   "source": [
    "**This graph shows that there is a very wide range of values for life expectancy throughout various countries.**"
   ]
  },
  {
   "cell_type": "markdown",
   "metadata": {},
   "source": [
    "## Conclusions and Recommendations"
   ]
  },
  {
   "cell_type": "markdown",
   "metadata": {},
   "source": [
    "Based on your exploration of the data, what are you key takeaways and recommendations? Make sure to answer your question of interest or address your problem statement here."
   ]
  },
  {
   "cell_type": "markdown",
   "metadata": {},
   "source": [
    "# Conclusions\n",
    "- Based on the data shown above, there did not seem to be a relationship between life expectancy and tabacco usage in the year 2020\n",
    "- The country with the highest tabacco use for 2020 was Myanmar\n",
    "- The country with the lowest life expectancy for the year 2020 was not Myanmar, but Lesotho\n",
    "\n",
    "# Recommendations\n",
    "- Although the data does not show a relationship between tabacco use and a decrease in life expectancy, smoking is still harmful and can cause major health issues and it is advised to limit or completely stop smoking habits\n",
    "- For future analysis, the project could be improved upon by adding in another dataset which includes the access to healthcare systems across the world as that plays a huge factor in overall life expectancy\n",
    "\n",
    "### Side notes\n",
    "- Data does not take into account how a variety of countries have less access to healthcare, medication, etc, which is a big factor in overall life expectancy\n",
    "- Data for tabacco usage only considers adults while there could be underage individuals "
   ]
  },
  {
   "cell_type": "markdown",
   "metadata": {},
   "source": []
  },
  {
   "cell_type": "code",
   "execution_count": null,
   "metadata": {},
   "outputs": [],
   "source": []
  },
  {
   "cell_type": "code",
   "execution_count": null,
   "metadata": {},
   "outputs": [],
   "source": []
  }
 ],
 "metadata": {
  "anaconda-cloud": {},
  "kernelspec": {
   "display_name": "Python 3 (ipykernel)",
   "language": "python",
   "name": "python3"
  },
  "language_info": {
   "codemirror_mode": {
    "name": "ipython",
    "version": 3
   },
   "file_extension": ".py",
   "mimetype": "text/x-python",
   "name": "python",
   "nbconvert_exporter": "python",
   "pygments_lexer": "ipython3",
   "version": "3.11.4"
  }
 },
 "nbformat": 4,
 "nbformat_minor": 4
}
